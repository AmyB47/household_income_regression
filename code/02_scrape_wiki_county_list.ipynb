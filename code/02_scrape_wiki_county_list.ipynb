{
 "cells": [
  {
   "cell_type": "code",
   "execution_count": null,
   "metadata": {},
   "outputs": [],
   "source": [
    "\"\"\"\n",
    "\n",
    "Get list of each state's county pages \n",
    "from each of the state Wikipedia pages\n",
    "scraped with code in '01_scrape_wiki_state_list'\n",
    "\n",
    "\n",
    "output to pickle\n",
    "\n",
    "\"\"\""
   ]
  },
  {
   "cell_type": "code",
   "execution_count": 3,
   "metadata": {},
   "outputs": [],
   "source": [
    "from bs4 import BeautifulSoup\n",
    "import requests\n",
    "\n",
    "import numpy as np\n",
    "import pandas as pd\n",
    "\n",
    "import pickle\n",
    "\n",
    "import time"
   ]
  },
  {
   "cell_type": "code",
   "execution_count": 4,
   "metadata": {},
   "outputs": [],
   "source": [
    "# list of state page wikipedia links \n",
    "\n",
    "with open('state_wiki_links.pickle', 'rb') as read_file:\n",
    "    state_links = pickle.load(read_file)\n",
    "    "
   ]
  },
  {
   "cell_type": "code",
   "execution_count": 5,
   "metadata": {},
   "outputs": [],
   "source": [
    "st_dc_only = state_links[ :-6]\n",
    "\n",
    "#drop dc \n",
    "\n",
    "st_only = st_dc_only[~st_dc_only['state'].isin(['Washington, D.C.'])].reset_index(drop=True)\n"
   ]
  },
  {
   "cell_type": "code",
   "execution_count": 6,
   "metadata": {
    "scrolled": true
   },
   "outputs": [
    {
     "data": {
      "text/html": [
       "<div>\n",
       "<style scoped>\n",
       "    .dataframe tbody tr th:only-of-type {\n",
       "        vertical-align: middle;\n",
       "    }\n",
       "\n",
       "    .dataframe tbody tr th {\n",
       "        vertical-align: top;\n",
       "    }\n",
       "\n",
       "    .dataframe thead th {\n",
       "        text-align: right;\n",
       "    }\n",
       "</style>\n",
       "<table border=\"1\" class=\"dataframe\">\n",
       "  <thead>\n",
       "    <tr style=\"text-align: right;\">\n",
       "      <th></th>\n",
       "      <th>state</th>\n",
       "      <th>wiki_link</th>\n",
       "    </tr>\n",
       "  </thead>\n",
       "  <tbody>\n",
       "    <tr>\n",
       "      <th>0</th>\n",
       "      <td>Alabama</td>\n",
       "      <td>/wiki/List_of_counties_in_Alabama</td>\n",
       "    </tr>\n",
       "    <tr>\n",
       "      <th>1</th>\n",
       "      <td>Alaska</td>\n",
       "      <td>/wiki/List_of_boroughs_and_census_areas_in_Alaska</td>\n",
       "    </tr>\n",
       "    <tr>\n",
       "      <th>2</th>\n",
       "      <td>Arizona</td>\n",
       "      <td>/wiki/List_of_counties_in_Arizona</td>\n",
       "    </tr>\n",
       "    <tr>\n",
       "      <th>3</th>\n",
       "      <td>Arkansas</td>\n",
       "      <td>/wiki/List_of_counties_in_Arkansas</td>\n",
       "    </tr>\n",
       "    <tr>\n",
       "      <th>4</th>\n",
       "      <td>California</td>\n",
       "      <td>/wiki/List_of_counties_in_California</td>\n",
       "    </tr>\n",
       "  </tbody>\n",
       "</table>\n",
       "</div>"
      ],
      "text/plain": [
       "        state                                          wiki_link\n",
       "0     Alabama                  /wiki/List_of_counties_in_Alabama\n",
       "1      Alaska  /wiki/List_of_boroughs_and_census_areas_in_Alaska\n",
       "2     Arizona                  /wiki/List_of_counties_in_Arizona\n",
       "3    Arkansas                 /wiki/List_of_counties_in_Arkansas\n",
       "4  California               /wiki/List_of_counties_in_California"
      ]
     },
     "execution_count": 6,
     "metadata": {},
     "output_type": "execute_result"
    }
   ],
   "source": [
    "st_only.head(5)"
   ]
  },
  {
   "cell_type": "code",
   "execution_count": 7,
   "metadata": {},
   "outputs": [],
   "source": [
    "url = 'https://en.wikipedia.org'"
   ]
  },
  {
   "cell_type": "code",
   "execution_count": 158,
   "metadata": {},
   "outputs": [],
   "source": [
    "records=[]\n",
    "\n",
    "for i,state in enumerate(st_only['state']):\n",
    "    \n",
    "    state = st_only['state'][i]\n",
    "    \n",
    "    state_page_url = url + st_only['wiki_link'][i]\n",
    "    \n",
    "    response = requests.get(state_page_url)\n",
    "    page = response.text\n",
    "    soup = BeautifulSoup(page)\n",
    "    \n",
    "    table_data = soup.find(class_='wikitable sortable').find_all('th' , scope='row')\n",
    "\n",
    "    for result in table_data:  \n",
    "        try:\n",
    "                        \n",
    "            FIPS_code = result.findNext('td').text.strip()\n",
    "            county_name = result.findNext('a').get('title')\n",
    "            wiki_link = result.findNext('a').get('href') \n",
    "            \n",
    "            records.append((state, FIPS_code, county_name, wiki_link))\n",
    "       \n",
    "        except:\n",
    "            continue\n",
    "            \n",
    "    time.sleep(5)\n"
   ]
  },
  {
   "cell_type": "code",
   "execution_count": 160,
   "metadata": {},
   "outputs": [
    {
     "data": {
      "text/html": [
       "<div>\n",
       "<style scoped>\n",
       "    .dataframe tbody tr th:only-of-type {\n",
       "        vertical-align: middle;\n",
       "    }\n",
       "\n",
       "    .dataframe tbody tr th {\n",
       "        vertical-align: top;\n",
       "    }\n",
       "\n",
       "    .dataframe thead th {\n",
       "        text-align: right;\n",
       "    }\n",
       "</style>\n",
       "<table border=\"1\" class=\"dataframe\">\n",
       "  <thead>\n",
       "    <tr style=\"text-align: right;\">\n",
       "      <th></th>\n",
       "      <th>state</th>\n",
       "      <th>FIPS_code</th>\n",
       "      <th>county_name</th>\n",
       "      <th>wiki_link</th>\n",
       "    </tr>\n",
       "  </thead>\n",
       "  <tbody>\n",
       "    <tr>\n",
       "      <th>0</th>\n",
       "      <td>Alabama</td>\n",
       "      <td>001</td>\n",
       "      <td>Autauga County, Alabama</td>\n",
       "      <td>/wiki/Autauga_County,_Alabama</td>\n",
       "    </tr>\n",
       "    <tr>\n",
       "      <th>1</th>\n",
       "      <td>Alabama</td>\n",
       "      <td>003</td>\n",
       "      <td>Baldwin County, Alabama</td>\n",
       "      <td>/wiki/Baldwin_County,_Alabama</td>\n",
       "    </tr>\n",
       "    <tr>\n",
       "      <th>2</th>\n",
       "      <td>Alabama</td>\n",
       "      <td>005</td>\n",
       "      <td>Barbour County, Alabama</td>\n",
       "      <td>/wiki/Barbour_County,_Alabama</td>\n",
       "    </tr>\n",
       "    <tr>\n",
       "      <th>3</th>\n",
       "      <td>Alabama</td>\n",
       "      <td>007</td>\n",
       "      <td>Bibb County, Alabama</td>\n",
       "      <td>/wiki/Bibb_County,_Alabama</td>\n",
       "    </tr>\n",
       "    <tr>\n",
       "      <th>4</th>\n",
       "      <td>Alabama</td>\n",
       "      <td>009</td>\n",
       "      <td>Blount County, Alabama</td>\n",
       "      <td>/wiki/Blount_County,_Alabama</td>\n",
       "    </tr>\n",
       "  </tbody>\n",
       "</table>\n",
       "</div>"
      ],
      "text/plain": [
       "     state FIPS_code              county_name                      wiki_link\n",
       "0  Alabama       001  Autauga County, Alabama  /wiki/Autauga_County,_Alabama\n",
       "1  Alabama       003  Baldwin County, Alabama  /wiki/Baldwin_County,_Alabama\n",
       "2  Alabama       005  Barbour County, Alabama  /wiki/Barbour_County,_Alabama\n",
       "3  Alabama       007     Bibb County, Alabama     /wiki/Bibb_County,_Alabama\n",
       "4  Alabama       009   Blount County, Alabama   /wiki/Blount_County,_Alabama"
      ]
     },
     "execution_count": 160,
     "metadata": {},
     "output_type": "execute_result"
    }
   ],
   "source": [
    "county_links_df = pd.DataFrame(records)\n",
    "\n",
    "county_links_df.columns = ['state', 'FIPS_code', 'county_name', 'wiki_link']\n",
    "county_links_df.head(5)"
   ]
  },
  {
   "cell_type": "code",
   "execution_count": 161,
   "metadata": {},
   "outputs": [
    {
     "data": {
      "text/plain": [
       "3095"
      ]
     },
     "execution_count": 161,
     "metadata": {},
     "output_type": "execute_result"
    }
   ],
   "source": [
    "len(county_links_df)"
   ]
  },
  {
   "cell_type": "code",
   "execution_count": 162,
   "metadata": {},
   "outputs": [],
   "source": [
    "county_links_df.to_csv('review_county_links.csv')\n",
    "# reviewed table in CSV"
   ]
  },
  {
   "cell_type": "code",
   "execution_count": 164,
   "metadata": {},
   "outputs": [],
   "source": [
    "# drop row from Washington state page that is linking to census.gov for info about all states\n",
    "\n",
    "all_county_pages = county_links_df[~county_links_df['wiki_link'].str.contains('census.gov')].reset_index(drop=True)"
   ]
  },
  {
   "cell_type": "code",
   "execution_count": 166,
   "metadata": {},
   "outputs": [
    {
     "data": {
      "text/plain": [
       "3094"
      ]
     },
     "execution_count": 166,
     "metadata": {},
     "output_type": "execute_result"
    }
   ],
   "source": [
    "len(all_county_pages)"
   ]
  },
  {
   "cell_type": "code",
   "execution_count": 167,
   "metadata": {},
   "outputs": [],
   "source": [
    "with open('county_wiki_links.pickle', 'wb') as to_write:\n",
    "    pickle.dump(all_county_pages, to_write)"
   ]
  },
  {
   "cell_type": "code",
   "execution_count": 168,
   "metadata": {},
   "outputs": [],
   "source": []
  },
  {
   "cell_type": "code",
   "execution_count": null,
   "metadata": {},
   "outputs": [],
   "source": []
  }
 ],
 "metadata": {
  "kernelspec": {
   "display_name": "Python 3",
   "language": "python",
   "name": "python3"
  },
  "language_info": {
   "codemirror_mode": {
    "name": "ipython",
    "version": 3
   },
   "file_extension": ".py",
   "mimetype": "text/x-python",
   "name": "python",
   "nbconvert_exporter": "python",
   "pygments_lexer": "ipython3",
   "version": "3.8.5"
  }
 },
 "nbformat": 4,
 "nbformat_minor": 4
}
