{
 "cells": [
  {
   "cell_type": "code",
   "execution_count": 1,
   "id": "whole-bullet",
   "metadata": {},
   "outputs": [
    {
     "data": {
      "text/plain": [
       "'\\n\\ncreate basic linear regression model for\\ntarget of US county 2019 median household income\\nwith numeric features and features already one-hot encoded\\n\\nWithout target transformation or transformation of features\\n\\nCheck model against validation set\\nHold out test set \\n\\n'"
      ]
     },
     "execution_count": 1,
     "metadata": {},
     "output_type": "execute_result"
    }
   ],
   "source": [
    "\"\"\"\n",
    "\n",
    "create basic linear regression model for\n",
    "target of US county 2019 median household income\n",
    "with numeric features and features already one-hot encoded\n",
    "\n",
    "Without target transformation or transformation of features\n",
    "\n",
    "Check model against validation set\n",
    "Hold out test set \n",
    "\n",
    "\"\"\""
   ]
  },
  {
   "cell_type": "code",
   "execution_count": 2,
   "id": "completed-monkey",
   "metadata": {},
   "outputs": [],
   "source": [
    "import pickle\n",
    "import pandas as pd\n",
    "import numpy as np\n",
    "\n",
    "from sklearn.model_selection import train_test_split, KFold\n",
    "from sklearn.preprocessing import StandardScaler, PolynomialFeatures, OneHotEncoder\n",
    "from sklearn.linear_model import LinearRegression, Lasso, LassoCV, Ridge, RidgeCV\n",
    "from sklearn.metrics import r2_score, mean_squared_error\n",
    "\n",
    "import matplotlib.pyplot as plt\n",
    "\n",
    "import scipy.stats as stats"
   ]
  },
  {
   "cell_type": "code",
   "execution_count": 3,
   "id": "distinguished-december",
   "metadata": {},
   "outputs": [
    {
     "data": {
      "text/html": [
       "<div>\n",
       "<style scoped>\n",
       "    .dataframe tbody tr th:only-of-type {\n",
       "        vertical-align: middle;\n",
       "    }\n",
       "\n",
       "    .dataframe tbody tr th {\n",
       "        vertical-align: top;\n",
       "    }\n",
       "\n",
       "    .dataframe thead th {\n",
       "        text-align: right;\n",
       "    }\n",
       "</style>\n",
       "<table border=\"1\" class=\"dataframe\">\n",
       "  <thead>\n",
       "    <tr style=\"text-align: right;\">\n",
       "      <th></th>\n",
       "      <th>FIPS_code</th>\n",
       "      <th>Stabr</th>\n",
       "      <th>area_name</th>\n",
       "      <th>Area_Name</th>\n",
       "      <th>Median_Household_Income_2019</th>\n",
       "      <th>Civilian_labor_force_2019</th>\n",
       "      <th>Unemployment_rate_2019</th>\n",
       "      <th>hwy_count</th>\n",
       "      <th>city_town_counts</th>\n",
       "      <th>Metro_2013</th>\n",
       "      <th>...</th>\n",
       "      <th>Farming_2015_Update</th>\n",
       "      <th>Mining_2015-Update</th>\n",
       "      <th>Manufacturing_2015_Update</th>\n",
       "      <th>Government_2015_Update</th>\n",
       "      <th>Recreation_2015_Update</th>\n",
       "      <th>Nonspecialized_2015_Update</th>\n",
       "      <th>Low_Education_2015_Update</th>\n",
       "      <th>Low_Employment_Cnty_2008_2012_25_64</th>\n",
       "      <th>Retirement_Dest_2015_Update</th>\n",
       "      <th>Persistent_Poverty_2013</th>\n",
       "    </tr>\n",
       "  </thead>\n",
       "  <tbody>\n",
       "    <tr>\n",
       "      <th>0</th>\n",
       "      <td>01001</td>\n",
       "      <td>AL</td>\n",
       "      <td>Autauga County, AL</td>\n",
       "      <td>Autauga County</td>\n",
       "      <td>58233.0</td>\n",
       "      <td>26172.0</td>\n",
       "      <td>2.7</td>\n",
       "      <td>6.0</td>\n",
       "      <td>4.0</td>\n",
       "      <td>1.0</td>\n",
       "      <td>...</td>\n",
       "      <td>0.0</td>\n",
       "      <td>0.0</td>\n",
       "      <td>0.0</td>\n",
       "      <td>0.0</td>\n",
       "      <td>0.0</td>\n",
       "      <td>1.0</td>\n",
       "      <td>0.0</td>\n",
       "      <td>0.0</td>\n",
       "      <td>1.0</td>\n",
       "      <td>0.0</td>\n",
       "    </tr>\n",
       "    <tr>\n",
       "      <th>1</th>\n",
       "      <td>01003</td>\n",
       "      <td>AL</td>\n",
       "      <td>Baldwin County, AL</td>\n",
       "      <td>Baldwin County</td>\n",
       "      <td>59871.0</td>\n",
       "      <td>97328.0</td>\n",
       "      <td>2.7</td>\n",
       "      <td>12.0</td>\n",
       "      <td>14.0</td>\n",
       "      <td>1.0</td>\n",
       "      <td>...</td>\n",
       "      <td>0.0</td>\n",
       "      <td>0.0</td>\n",
       "      <td>0.0</td>\n",
       "      <td>0.0</td>\n",
       "      <td>1.0</td>\n",
       "      <td>0.0</td>\n",
       "      <td>0.0</td>\n",
       "      <td>0.0</td>\n",
       "      <td>1.0</td>\n",
       "      <td>0.0</td>\n",
       "    </tr>\n",
       "    <tr>\n",
       "      <th>2</th>\n",
       "      <td>01005</td>\n",
       "      <td>AL</td>\n",
       "      <td>Barbour County, AL</td>\n",
       "      <td>Barbour County</td>\n",
       "      <td>35972.0</td>\n",
       "      <td>8537.0</td>\n",
       "      <td>3.8</td>\n",
       "      <td>11.0</td>\n",
       "      <td>6.0</td>\n",
       "      <td>0.0</td>\n",
       "      <td>...</td>\n",
       "      <td>0.0</td>\n",
       "      <td>0.0</td>\n",
       "      <td>1.0</td>\n",
       "      <td>0.0</td>\n",
       "      <td>0.0</td>\n",
       "      <td>0.0</td>\n",
       "      <td>1.0</td>\n",
       "      <td>1.0</td>\n",
       "      <td>0.0</td>\n",
       "      <td>1.0</td>\n",
       "    </tr>\n",
       "    <tr>\n",
       "      <th>3</th>\n",
       "      <td>01007</td>\n",
       "      <td>AL</td>\n",
       "      <td>Bibb County, AL</td>\n",
       "      <td>Bibb County</td>\n",
       "      <td>47918.0</td>\n",
       "      <td>8685.0</td>\n",
       "      <td>3.1</td>\n",
       "      <td>8.0</td>\n",
       "      <td>5.0</td>\n",
       "      <td>1.0</td>\n",
       "      <td>...</td>\n",
       "      <td>0.0</td>\n",
       "      <td>0.0</td>\n",
       "      <td>0.0</td>\n",
       "      <td>0.0</td>\n",
       "      <td>0.0</td>\n",
       "      <td>1.0</td>\n",
       "      <td>1.0</td>\n",
       "      <td>1.0</td>\n",
       "      <td>0.0</td>\n",
       "      <td>0.0</td>\n",
       "    </tr>\n",
       "    <tr>\n",
       "      <th>4</th>\n",
       "      <td>01009</td>\n",
       "      <td>AL</td>\n",
       "      <td>Blount County, AL</td>\n",
       "      <td>Blount County</td>\n",
       "      <td>52902.0</td>\n",
       "      <td>25331.0</td>\n",
       "      <td>2.7</td>\n",
       "      <td>9.0</td>\n",
       "      <td>16.0</td>\n",
       "      <td>1.0</td>\n",
       "      <td>...</td>\n",
       "      <td>0.0</td>\n",
       "      <td>0.0</td>\n",
       "      <td>0.0</td>\n",
       "      <td>0.0</td>\n",
       "      <td>0.0</td>\n",
       "      <td>1.0</td>\n",
       "      <td>1.0</td>\n",
       "      <td>1.0</td>\n",
       "      <td>0.0</td>\n",
       "      <td>0.0</td>\n",
       "    </tr>\n",
       "  </tbody>\n",
       "</table>\n",
       "<p>5 rows × 21 columns</p>\n",
       "</div>"
      ],
      "text/plain": [
       "  FIPS_code Stabr           area_name       Area_Name  \\\n",
       "0     01001    AL  Autauga County, AL  Autauga County   \n",
       "1     01003    AL  Baldwin County, AL  Baldwin County   \n",
       "2     01005    AL  Barbour County, AL  Barbour County   \n",
       "3     01007    AL     Bibb County, AL     Bibb County   \n",
       "4     01009    AL   Blount County, AL   Blount County   \n",
       "\n",
       "   Median_Household_Income_2019  Civilian_labor_force_2019  \\\n",
       "0                       58233.0                    26172.0   \n",
       "1                       59871.0                    97328.0   \n",
       "2                       35972.0                     8537.0   \n",
       "3                       47918.0                     8685.0   \n",
       "4                       52902.0                    25331.0   \n",
       "\n",
       "   Unemployment_rate_2019  hwy_count  city_town_counts  Metro_2013  ...  \\\n",
       "0                     2.7        6.0               4.0         1.0  ...   \n",
       "1                     2.7       12.0              14.0         1.0  ...   \n",
       "2                     3.8       11.0               6.0         0.0  ...   \n",
       "3                     3.1        8.0               5.0         1.0  ...   \n",
       "4                     2.7        9.0              16.0         1.0  ...   \n",
       "\n",
       "   Farming_2015_Update  Mining_2015-Update  Manufacturing_2015_Update  \\\n",
       "0                  0.0                 0.0                        0.0   \n",
       "1                  0.0                 0.0                        0.0   \n",
       "2                  0.0                 0.0                        1.0   \n",
       "3                  0.0                 0.0                        0.0   \n",
       "4                  0.0                 0.0                        0.0   \n",
       "\n",
       "   Government_2015_Update  Recreation_2015_Update  Nonspecialized_2015_Update  \\\n",
       "0                     0.0                     0.0                         1.0   \n",
       "1                     0.0                     1.0                         0.0   \n",
       "2                     0.0                     0.0                         0.0   \n",
       "3                     0.0                     0.0                         1.0   \n",
       "4                     0.0                     0.0                         1.0   \n",
       "\n",
       "   Low_Education_2015_Update  Low_Employment_Cnty_2008_2012_25_64  \\\n",
       "0                        0.0                                  0.0   \n",
       "1                        0.0                                  0.0   \n",
       "2                        1.0                                  1.0   \n",
       "3                        1.0                                  1.0   \n",
       "4                        1.0                                  1.0   \n",
       "\n",
       "   Retirement_Dest_2015_Update  Persistent_Poverty_2013  \n",
       "0                          1.0                      0.0  \n",
       "1                          1.0                      0.0  \n",
       "2                          0.0                      1.0  \n",
       "3                          0.0                      0.0  \n",
       "4                          0.0                      0.0  \n",
       "\n",
       "[5 rows x 21 columns]"
      ]
     },
     "execution_count": 3,
     "metadata": {},
     "output_type": "execute_result"
    }
   ],
   "source": [
    "with open('county_model_data.pickle', 'rb') as read_file:\n",
    "    model_data = pickle.load(read_file)\n",
    "    \n",
    "model_data.head()"
   ]
  },
  {
   "cell_type": "code",
   "execution_count": 4,
   "id": "pediatric-block",
   "metadata": {},
   "outputs": [
    {
     "data": {
      "text/plain": [
       "Index(['FIPS_code', 'Stabr', 'area_name', 'Area_Name',\n",
       "       'Median_Household_Income_2019', 'Civilian_labor_force_2019',\n",
       "       'Unemployment_rate_2019', 'hwy_count', 'city_town_counts', 'Metro_2013',\n",
       "       'Rural_urban_continuum_code_2013', 'Farming_2015_Update',\n",
       "       'Mining_2015-Update', 'Manufacturing_2015_Update',\n",
       "       'Government_2015_Update', 'Recreation_2015_Update',\n",
       "       'Nonspecialized_2015_Update', 'Low_Education_2015_Update',\n",
       "       'Low_Employment_Cnty_2008_2012_25_64', 'Retirement_Dest_2015_Update',\n",
       "       'Persistent_Poverty_2013'],\n",
       "      dtype='object')"
      ]
     },
     "execution_count": 4,
     "metadata": {},
     "output_type": "execute_result"
    }
   ],
   "source": [
    "model_data.columns"
   ]
  },
  {
   "cell_type": "code",
   "execution_count": 5,
   "id": "acoustic-latest",
   "metadata": {},
   "outputs": [],
   "source": [
    "# split df \n",
    "X = model_data[['Civilian_labor_force_2019',\n",
    "       'Unemployment_rate_2019', 'hwy_count', 'city_town_counts', 'Metro_2013',\n",
    "       'Rural_urban_continuum_code_2013', 'Farming_2015_Update',\n",
    "       'Mining_2015-Update', 'Manufacturing_2015_Update',\n",
    "       'Government_2015_Update', 'Recreation_2015_Update',\n",
    "       'Nonspecialized_2015_Update', 'Low_Education_2015_Update',\n",
    "       'Low_Employment_Cnty_2008_2012_25_64', 'Retirement_Dest_2015_Update',\n",
    "       'Persistent_Poverty_2013']]\n",
    "\n",
    "y = model_data['Median_Household_Income_2019']\n",
    "\n"
   ]
  },
  {
   "cell_type": "code",
   "execution_count": 6,
   "id": "fabulous-permission",
   "metadata": {},
   "outputs": [
    {
     "data": {
      "text/plain": [
       "0    58233.0\n",
       "1    59871.0\n",
       "2    35972.0\n",
       "3    47918.0\n",
       "4    52902.0\n",
       "5    31906.0\n",
       "6    39944.0\n",
       "7    47747.0\n",
       "8    42015.0\n",
       "9    45982.0\n",
       "Name: Median_Household_Income_2019, dtype: float64"
      ]
     },
     "execution_count": 6,
     "metadata": {},
     "output_type": "execute_result"
    }
   ],
   "source": [
    "y[:10]"
   ]
  },
  {
   "cell_type": "code",
   "execution_count": 7,
   "id": "royal-things",
   "metadata": {},
   "outputs": [
    {
     "data": {
      "text/html": [
       "<div>\n",
       "<style scoped>\n",
       "    .dataframe tbody tr th:only-of-type {\n",
       "        vertical-align: middle;\n",
       "    }\n",
       "\n",
       "    .dataframe tbody tr th {\n",
       "        vertical-align: top;\n",
       "    }\n",
       "\n",
       "    .dataframe thead th {\n",
       "        text-align: right;\n",
       "    }\n",
       "</style>\n",
       "<table border=\"1\" class=\"dataframe\">\n",
       "  <thead>\n",
       "    <tr style=\"text-align: right;\">\n",
       "      <th></th>\n",
       "      <th>Civilian_labor_force_2019</th>\n",
       "      <th>Unemployment_rate_2019</th>\n",
       "      <th>hwy_count</th>\n",
       "      <th>city_town_counts</th>\n",
       "      <th>Metro_2013</th>\n",
       "      <th>Rural_urban_continuum_code_2013</th>\n",
       "      <th>Farming_2015_Update</th>\n",
       "      <th>Mining_2015-Update</th>\n",
       "      <th>Manufacturing_2015_Update</th>\n",
       "      <th>Government_2015_Update</th>\n",
       "      <th>Recreation_2015_Update</th>\n",
       "      <th>Nonspecialized_2015_Update</th>\n",
       "      <th>Low_Education_2015_Update</th>\n",
       "      <th>Low_Employment_Cnty_2008_2012_25_64</th>\n",
       "      <th>Retirement_Dest_2015_Update</th>\n",
       "      <th>Persistent_Poverty_2013</th>\n",
       "    </tr>\n",
       "  </thead>\n",
       "  <tbody>\n",
       "    <tr>\n",
       "      <th>0</th>\n",
       "      <td>26172.0</td>\n",
       "      <td>2.7</td>\n",
       "      <td>6.0</td>\n",
       "      <td>4.0</td>\n",
       "      <td>1.0</td>\n",
       "      <td>2.0</td>\n",
       "      <td>0.0</td>\n",
       "      <td>0.0</td>\n",
       "      <td>0.0</td>\n",
       "      <td>0.0</td>\n",
       "      <td>0.0</td>\n",
       "      <td>1.0</td>\n",
       "      <td>0.0</td>\n",
       "      <td>0.0</td>\n",
       "      <td>1.0</td>\n",
       "      <td>0.0</td>\n",
       "    </tr>\n",
       "    <tr>\n",
       "      <th>1</th>\n",
       "      <td>97328.0</td>\n",
       "      <td>2.7</td>\n",
       "      <td>12.0</td>\n",
       "      <td>14.0</td>\n",
       "      <td>1.0</td>\n",
       "      <td>3.0</td>\n",
       "      <td>0.0</td>\n",
       "      <td>0.0</td>\n",
       "      <td>0.0</td>\n",
       "      <td>0.0</td>\n",
       "      <td>1.0</td>\n",
       "      <td>0.0</td>\n",
       "      <td>0.0</td>\n",
       "      <td>0.0</td>\n",
       "      <td>1.0</td>\n",
       "      <td>0.0</td>\n",
       "    </tr>\n",
       "    <tr>\n",
       "      <th>2</th>\n",
       "      <td>8537.0</td>\n",
       "      <td>3.8</td>\n",
       "      <td>11.0</td>\n",
       "      <td>6.0</td>\n",
       "      <td>0.0</td>\n",
       "      <td>6.0</td>\n",
       "      <td>0.0</td>\n",
       "      <td>0.0</td>\n",
       "      <td>1.0</td>\n",
       "      <td>0.0</td>\n",
       "      <td>0.0</td>\n",
       "      <td>0.0</td>\n",
       "      <td>1.0</td>\n",
       "      <td>1.0</td>\n",
       "      <td>0.0</td>\n",
       "      <td>1.0</td>\n",
       "    </tr>\n",
       "    <tr>\n",
       "      <th>3</th>\n",
       "      <td>8685.0</td>\n",
       "      <td>3.1</td>\n",
       "      <td>8.0</td>\n",
       "      <td>5.0</td>\n",
       "      <td>1.0</td>\n",
       "      <td>1.0</td>\n",
       "      <td>0.0</td>\n",
       "      <td>0.0</td>\n",
       "      <td>0.0</td>\n",
       "      <td>0.0</td>\n",
       "      <td>0.0</td>\n",
       "      <td>1.0</td>\n",
       "      <td>1.0</td>\n",
       "      <td>1.0</td>\n",
       "      <td>0.0</td>\n",
       "      <td>0.0</td>\n",
       "    </tr>\n",
       "    <tr>\n",
       "      <th>4</th>\n",
       "      <td>25331.0</td>\n",
       "      <td>2.7</td>\n",
       "      <td>9.0</td>\n",
       "      <td>16.0</td>\n",
       "      <td>1.0</td>\n",
       "      <td>1.0</td>\n",
       "      <td>0.0</td>\n",
       "      <td>0.0</td>\n",
       "      <td>0.0</td>\n",
       "      <td>0.0</td>\n",
       "      <td>0.0</td>\n",
       "      <td>1.0</td>\n",
       "      <td>1.0</td>\n",
       "      <td>1.0</td>\n",
       "      <td>0.0</td>\n",
       "      <td>0.0</td>\n",
       "    </tr>\n",
       "    <tr>\n",
       "      <th>5</th>\n",
       "      <td>4818.0</td>\n",
       "      <td>3.6</td>\n",
       "      <td>6.0</td>\n",
       "      <td>2.0</td>\n",
       "      <td>0.0</td>\n",
       "      <td>6.0</td>\n",
       "      <td>0.0</td>\n",
       "      <td>0.0</td>\n",
       "      <td>1.0</td>\n",
       "      <td>1.0</td>\n",
       "      <td>0.0</td>\n",
       "      <td>0.0</td>\n",
       "      <td>1.0</td>\n",
       "      <td>1.0</td>\n",
       "      <td>0.0</td>\n",
       "      <td>1.0</td>\n",
       "    </tr>\n",
       "    <tr>\n",
       "      <th>6</th>\n",
       "      <td>9263.0</td>\n",
       "      <td>3.6</td>\n",
       "      <td>7.0</td>\n",
       "      <td>3.0</td>\n",
       "      <td>0.0</td>\n",
       "      <td>6.0</td>\n",
       "      <td>0.0</td>\n",
       "      <td>0.0</td>\n",
       "      <td>0.0</td>\n",
       "      <td>0.0</td>\n",
       "      <td>0.0</td>\n",
       "      <td>1.0</td>\n",
       "      <td>0.0</td>\n",
       "      <td>1.0</td>\n",
       "      <td>0.0</td>\n",
       "      <td>1.0</td>\n",
       "    </tr>\n",
       "    <tr>\n",
       "      <th>7</th>\n",
       "      <td>46209.0</td>\n",
       "      <td>3.5</td>\n",
       "      <td>11.0</td>\n",
       "      <td>9.0</td>\n",
       "      <td>1.0</td>\n",
       "      <td>3.0</td>\n",
       "      <td>0.0</td>\n",
       "      <td>0.0</td>\n",
       "      <td>0.0</td>\n",
       "      <td>1.0</td>\n",
       "      <td>0.0</td>\n",
       "      <td>0.0</td>\n",
       "      <td>0.0</td>\n",
       "      <td>1.0</td>\n",
       "      <td>0.0</td>\n",
       "      <td>0.0</td>\n",
       "    </tr>\n",
       "    <tr>\n",
       "      <th>8</th>\n",
       "      <td>15748.0</td>\n",
       "      <td>2.9</td>\n",
       "      <td>7.0</td>\n",
       "      <td>6.0</td>\n",
       "      <td>0.0</td>\n",
       "      <td>6.0</td>\n",
       "      <td>0.0</td>\n",
       "      <td>0.0</td>\n",
       "      <td>0.0</td>\n",
       "      <td>0.0</td>\n",
       "      <td>0.0</td>\n",
       "      <td>1.0</td>\n",
       "      <td>1.0</td>\n",
       "      <td>1.0</td>\n",
       "      <td>0.0</td>\n",
       "      <td>0.0</td>\n",
       "    </tr>\n",
       "    <tr>\n",
       "      <th>9</th>\n",
       "      <td>11604.0</td>\n",
       "      <td>2.9</td>\n",
       "      <td>7.0</td>\n",
       "      <td>7.0</td>\n",
       "      <td>0.0</td>\n",
       "      <td>6.0</td>\n",
       "      <td>0.0</td>\n",
       "      <td>0.0</td>\n",
       "      <td>0.0</td>\n",
       "      <td>0.0</td>\n",
       "      <td>0.0</td>\n",
       "      <td>1.0</td>\n",
       "      <td>0.0</td>\n",
       "      <td>1.0</td>\n",
       "      <td>0.0</td>\n",
       "      <td>0.0</td>\n",
       "    </tr>\n",
       "  </tbody>\n",
       "</table>\n",
       "</div>"
      ],
      "text/plain": [
       "   Civilian_labor_force_2019  Unemployment_rate_2019  hwy_count  \\\n",
       "0                    26172.0                     2.7        6.0   \n",
       "1                    97328.0                     2.7       12.0   \n",
       "2                     8537.0                     3.8       11.0   \n",
       "3                     8685.0                     3.1        8.0   \n",
       "4                    25331.0                     2.7        9.0   \n",
       "5                     4818.0                     3.6        6.0   \n",
       "6                     9263.0                     3.6        7.0   \n",
       "7                    46209.0                     3.5       11.0   \n",
       "8                    15748.0                     2.9        7.0   \n",
       "9                    11604.0                     2.9        7.0   \n",
       "\n",
       "   city_town_counts  Metro_2013  Rural_urban_continuum_code_2013  \\\n",
       "0               4.0         1.0                              2.0   \n",
       "1              14.0         1.0                              3.0   \n",
       "2               6.0         0.0                              6.0   \n",
       "3               5.0         1.0                              1.0   \n",
       "4              16.0         1.0                              1.0   \n",
       "5               2.0         0.0                              6.0   \n",
       "6               3.0         0.0                              6.0   \n",
       "7               9.0         1.0                              3.0   \n",
       "8               6.0         0.0                              6.0   \n",
       "9               7.0         0.0                              6.0   \n",
       "\n",
       "   Farming_2015_Update  Mining_2015-Update  Manufacturing_2015_Update  \\\n",
       "0                  0.0                 0.0                        0.0   \n",
       "1                  0.0                 0.0                        0.0   \n",
       "2                  0.0                 0.0                        1.0   \n",
       "3                  0.0                 0.0                        0.0   \n",
       "4                  0.0                 0.0                        0.0   \n",
       "5                  0.0                 0.0                        1.0   \n",
       "6                  0.0                 0.0                        0.0   \n",
       "7                  0.0                 0.0                        0.0   \n",
       "8                  0.0                 0.0                        0.0   \n",
       "9                  0.0                 0.0                        0.0   \n",
       "\n",
       "   Government_2015_Update  Recreation_2015_Update  Nonspecialized_2015_Update  \\\n",
       "0                     0.0                     0.0                         1.0   \n",
       "1                     0.0                     1.0                         0.0   \n",
       "2                     0.0                     0.0                         0.0   \n",
       "3                     0.0                     0.0                         1.0   \n",
       "4                     0.0                     0.0                         1.0   \n",
       "5                     1.0                     0.0                         0.0   \n",
       "6                     0.0                     0.0                         1.0   \n",
       "7                     1.0                     0.0                         0.0   \n",
       "8                     0.0                     0.0                         1.0   \n",
       "9                     0.0                     0.0                         1.0   \n",
       "\n",
       "   Low_Education_2015_Update  Low_Employment_Cnty_2008_2012_25_64  \\\n",
       "0                        0.0                                  0.0   \n",
       "1                        0.0                                  0.0   \n",
       "2                        1.0                                  1.0   \n",
       "3                        1.0                                  1.0   \n",
       "4                        1.0                                  1.0   \n",
       "5                        1.0                                  1.0   \n",
       "6                        0.0                                  1.0   \n",
       "7                        0.0                                  1.0   \n",
       "8                        1.0                                  1.0   \n",
       "9                        0.0                                  1.0   \n",
       "\n",
       "   Retirement_Dest_2015_Update  Persistent_Poverty_2013  \n",
       "0                          1.0                      0.0  \n",
       "1                          1.0                      0.0  \n",
       "2                          0.0                      1.0  \n",
       "3                          0.0                      0.0  \n",
       "4                          0.0                      0.0  \n",
       "5                          0.0                      1.0  \n",
       "6                          0.0                      1.0  \n",
       "7                          0.0                      0.0  \n",
       "8                          0.0                      0.0  \n",
       "9                          0.0                      0.0  "
      ]
     },
     "execution_count": 7,
     "metadata": {},
     "output_type": "execute_result"
    }
   ],
   "source": [
    "X[:10]"
   ]
  },
  {
   "cell_type": "code",
   "execution_count": 8,
   "id": "extreme-grove",
   "metadata": {},
   "outputs": [],
   "source": [
    "X_train_val, X_test, y_train_val, y_test = train_test_split(X, y, test_size=0.2, random_state=42)\n",
    "\n",
    "X_train, X_val, y_train, y_val = train_test_split(X_train_val, y_train_val, test_size=.25, random_state=43)"
   ]
  },
  {
   "cell_type": "code",
   "execution_count": 9,
   "id": "joined-brief",
   "metadata": {},
   "outputs": [
    {
     "data": {
      "text/plain": [
       "(1854, 16)"
      ]
     },
     "execution_count": 9,
     "metadata": {},
     "output_type": "execute_result"
    }
   ],
   "source": [
    "X_train.shape"
   ]
  },
  {
   "cell_type": "code",
   "execution_count": 10,
   "id": "going-superintendent",
   "metadata": {},
   "outputs": [
    {
     "data": {
      "text/plain": [
       "(619, 16)"
      ]
     },
     "execution_count": 10,
     "metadata": {},
     "output_type": "execute_result"
    }
   ],
   "source": [
    "X_val.shape"
   ]
  },
  {
   "cell_type": "code",
   "execution_count": 11,
   "id": "polyphonic-quick",
   "metadata": {},
   "outputs": [
    {
     "data": {
      "text/plain": [
       "(619, 16)"
      ]
     },
     "execution_count": 11,
     "metadata": {},
     "output_type": "execute_result"
    }
   ],
   "source": [
    "X_test.shape"
   ]
  },
  {
   "cell_type": "code",
   "execution_count": 12,
   "id": "opposite-gothic",
   "metadata": {},
   "outputs": [
    {
     "data": {
      "text/plain": [
       "0.5108926711097381"
      ]
     },
     "execution_count": 12,
     "metadata": {},
     "output_type": "execute_result"
    }
   ],
   "source": [
    "# Linear Regression Model \n",
    "\n",
    "# one train set and one validation set\n",
    "\n",
    "lr = LinearRegression()\n",
    "\n",
    "lr.fit(X_train, y_train)\n",
    "\n",
    "lr.score(X_train, y_train)\n",
    "\n"
   ]
  },
  {
   "cell_type": "code",
   "execution_count": 13,
   "id": "serial-wonder",
   "metadata": {},
   "outputs": [
    {
     "data": {
      "text/plain": [
       "0.4825581892038294"
      ]
     },
     "execution_count": 13,
     "metadata": {},
     "output_type": "execute_result"
    }
   ],
   "source": [
    "lr.score(X_val, y_val) #R2"
   ]
  },
  {
   "cell_type": "code",
   "execution_count": 14,
   "id": "italian-satin",
   "metadata": {},
   "outputs": [
    {
     "data": {
      "text/plain": [
       "10880.353676347006"
      ]
     },
     "execution_count": 14,
     "metadata": {},
     "output_type": "execute_result"
    }
   ],
   "source": [
    "y_pred = lr.predict(X_val)\n",
    "np.sqrt(mean_squared_error(y_val, y_pred))"
   ]
  },
  {
   "cell_type": "code",
   "execution_count": 15,
   "id": "crude-asbestos",
   "metadata": {},
   "outputs": [
    {
     "data": {
      "text/plain": [
       "[('Low_Employment_Cnty_2008_2012_25_64', -7771.691),\n",
       " ('Persistent_Poverty_2013', -6656.671),\n",
       " ('Low_Education_2015_Update', -2174.483),\n",
       " ('Unemployment_rate_2019', -1823.455),\n",
       " ('Farming_2015_Update', -1691.579),\n",
       " ('Manufacturing_2015_Update', -1275.116),\n",
       " ('Rural_urban_continuum_code_2013', -1063.562),\n",
       " ('Government_2015_Update', -957.364),\n",
       " ('Nonspecialized_2015_Update', -311.156),\n",
       " ('hwy_count', -96.748),\n",
       " ('Civilian_labor_force_2019', 0.024),\n",
       " ('city_town_counts', 7.859),\n",
       " ('Mining_2015-Update', 1761.65),\n",
       " ('Metro_2013', 1952.755),\n",
       " ('Recreation_2015_Update', 2292.193),\n",
       " ('Retirement_Dest_2015_Update', 3767.635)]"
      ]
     },
     "execution_count": 15,
     "metadata": {},
     "output_type": "execute_result"
    }
   ],
   "source": [
    "sorted(list(zip(X_val.columns, np.round(lr.coef_, 3))), key=lambda x: x[1])"
   ]
  },
  {
   "cell_type": "code",
   "execution_count": 16,
   "id": "selective-phenomenon",
   "metadata": {},
   "outputs": [
    {
     "data": {
      "text/plain": [
       "70048.5543787397"
      ]
     },
     "execution_count": 16,
     "metadata": {},
     "output_type": "execute_result"
    }
   ],
   "source": [
    "lr.intercept_"
   ]
  },
  {
   "cell_type": "code",
   "execution_count": 17,
   "id": "worth-silly",
   "metadata": {},
   "outputs": [],
   "source": [
    "# plot residuals"
   ]
  },
  {
   "cell_type": "code",
   "execution_count": 18,
   "id": "alone-helena",
   "metadata": {},
   "outputs": [
    {
     "data": {
      "text/plain": [
       "Text(0, 0.5, 'residuals')"
      ]
     },
     "execution_count": 18,
     "metadata": {},
     "output_type": "execute_result"
    },
    {
     "data": {
      "image/png": "[encoded data removed]",
      "text/plain": [
       "<Figure size 432x288 with 1 Axes>"
      ]
     },
     "metadata": {
      "needs_background": "light"
     },
     "output_type": "display_data"
    }
   ],
   "source": [
    "res = y_val - y_pred\n",
    "plt.scatter(y_pred, res)\n",
    "plt.title(\"Residual plot\")\n",
    "plt.xlabel(\"prediction\")\n",
    "plt.ylabel(\"residuals\")"
   ]
  },
  {
   "cell_type": "code",
   "execution_count": 19,
   "id": "about-cyprus",
   "metadata": {},
   "outputs": [
    {
     "data": {
      "image/png": "[encoded data removed]",
      "text/plain": [
       "<Figure size 432x288 with 1 Axes>"
      ]
     },
     "metadata": {
      "needs_background": "light"
     },
     "output_type": "display_data"
    }
   ],
   "source": [
    "stats.probplot(res, dist=\"norm\", plot=plt)\n",
    "plt.title(\"Normal Q-Q plot\")\n",
    "plt.show()"
   ]
  },
  {
   "cell_type": "code",
   "execution_count": 20,
   "id": "formal-carnival",
   "metadata": {},
   "outputs": [],
   "source": [
    "## the target is skewed right and needs transformed\n",
    "## that should help with randomness and distribution of residuals\n",
    "## Also add kfold CV"
   ]
  }
 ],
 "metadata": {
  "kernelspec": {
   "display_name": "Python 3",
   "language": "python",
   "name": "python3"
  },
  "language_info": {
   "codemirror_mode": {
    "name": "ipython",
    "version": 3
   },
   "file_extension": ".py",
   "mimetype": "text/x-python",
   "name": "python",
   "nbconvert_exporter": "python",
   "pygments_lexer": "ipython3",
   "version": "3.8.2"
  }
 },
 "nbformat": 4,
 "nbformat_minor": 5
}
