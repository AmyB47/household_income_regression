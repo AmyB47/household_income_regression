{
 "cells": [
  {
   "cell_type": "code",
   "execution_count": null,
   "id": "technological-bronze",
   "metadata": {},
   "outputs": [],
   "source": [
    "\"\"\"\n",
    "\n",
    "examine distribution of target: 2019 Median Household Income\n",
    "and determine appropriate transformation to fit normal distribution\n",
    "\n",
    "\"\"\""
   ]
  },
  {
   "cell_type": "code",
   "execution_count": 1,
   "id": "ahead-attack",
   "metadata": {},
   "outputs": [],
   "source": [
    "import pickle\n",
    "import pandas as pd\n",
    "import numpy as np\n",
    "\n",
    "import matplotlib.pyplot as plt\n",
    "\n",
    "import scipy.stats as stats"
   ]
  },
  {
   "cell_type": "code",
   "execution_count": 2,
   "id": "proprietary-management",
   "metadata": {},
   "outputs": [
    {
     "data": {
      "text/html": [
       "<div>\n",
       "<style scoped>\n",
       "    .dataframe tbody tr th:only-of-type {\n",
       "        vertical-align: middle;\n",
       "    }\n",
       "\n",
       "    .dataframe tbody tr th {\n",
       "        vertical-align: top;\n",
       "    }\n",
       "\n",
       "    .dataframe thead th {\n",
       "        text-align: right;\n",
       "    }\n",
       "</style>\n",
       "<table border=\"1\" class=\"dataframe\">\n",
       "  <thead>\n",
       "    <tr style=\"text-align: right;\">\n",
       "      <th></th>\n",
       "      <th>FIPS_code</th>\n",
       "      <th>Stabr</th>\n",
       "      <th>area_name</th>\n",
       "      <th>Area_Name</th>\n",
       "      <th>Median_Household_Income_2019</th>\n",
       "      <th>Civilian_labor_force_2019</th>\n",
       "      <th>Unemployment_rate_2019</th>\n",
       "      <th>hwy_count</th>\n",
       "      <th>city_town_counts</th>\n",
       "      <th>Metro_2013</th>\n",
       "      <th>...</th>\n",
       "      <th>Farming_2015_Update</th>\n",
       "      <th>Mining_2015-Update</th>\n",
       "      <th>Manufacturing_2015_Update</th>\n",
       "      <th>Government_2015_Update</th>\n",
       "      <th>Recreation_2015_Update</th>\n",
       "      <th>Nonspecialized_2015_Update</th>\n",
       "      <th>Low_Education_2015_Update</th>\n",
       "      <th>Low_Employment_Cnty_2008_2012_25_64</th>\n",
       "      <th>Retirement_Dest_2015_Update</th>\n",
       "      <th>Persistent_Poverty_2013</th>\n",
       "    </tr>\n",
       "  </thead>\n",
       "  <tbody>\n",
       "    <tr>\n",
       "      <th>0</th>\n",
       "      <td>01001</td>\n",
       "      <td>AL</td>\n",
       "      <td>Autauga County, AL</td>\n",
       "      <td>Autauga County</td>\n",
       "      <td>58233.0</td>\n",
       "      <td>26172.0</td>\n",
       "      <td>2.7</td>\n",
       "      <td>6.0</td>\n",
       "      <td>4.0</td>\n",
       "      <td>1.0</td>\n",
       "      <td>...</td>\n",
       "      <td>0.0</td>\n",
       "      <td>0.0</td>\n",
       "      <td>0.0</td>\n",
       "      <td>0.0</td>\n",
       "      <td>0.0</td>\n",
       "      <td>1.0</td>\n",
       "      <td>0.0</td>\n",
       "      <td>0.0</td>\n",
       "      <td>1.0</td>\n",
       "      <td>0.0</td>\n",
       "    </tr>\n",
       "    <tr>\n",
       "      <th>1</th>\n",
       "      <td>01003</td>\n",
       "      <td>AL</td>\n",
       "      <td>Baldwin County, AL</td>\n",
       "      <td>Baldwin County</td>\n",
       "      <td>59871.0</td>\n",
       "      <td>97328.0</td>\n",
       "      <td>2.7</td>\n",
       "      <td>12.0</td>\n",
       "      <td>14.0</td>\n",
       "      <td>1.0</td>\n",
       "      <td>...</td>\n",
       "      <td>0.0</td>\n",
       "      <td>0.0</td>\n",
       "      <td>0.0</td>\n",
       "      <td>0.0</td>\n",
       "      <td>1.0</td>\n",
       "      <td>0.0</td>\n",
       "      <td>0.0</td>\n",
       "      <td>0.0</td>\n",
       "      <td>1.0</td>\n",
       "      <td>0.0</td>\n",
       "    </tr>\n",
       "    <tr>\n",
       "      <th>2</th>\n",
       "      <td>01005</td>\n",
       "      <td>AL</td>\n",
       "      <td>Barbour County, AL</td>\n",
       "      <td>Barbour County</td>\n",
       "      <td>35972.0</td>\n",
       "      <td>8537.0</td>\n",
       "      <td>3.8</td>\n",
       "      <td>11.0</td>\n",
       "      <td>6.0</td>\n",
       "      <td>0.0</td>\n",
       "      <td>...</td>\n",
       "      <td>0.0</td>\n",
       "      <td>0.0</td>\n",
       "      <td>1.0</td>\n",
       "      <td>0.0</td>\n",
       "      <td>0.0</td>\n",
       "      <td>0.0</td>\n",
       "      <td>1.0</td>\n",
       "      <td>1.0</td>\n",
       "      <td>0.0</td>\n",
       "      <td>1.0</td>\n",
       "    </tr>\n",
       "    <tr>\n",
       "      <th>3</th>\n",
       "      <td>01007</td>\n",
       "      <td>AL</td>\n",
       "      <td>Bibb County, AL</td>\n",
       "      <td>Bibb County</td>\n",
       "      <td>47918.0</td>\n",
       "      <td>8685.0</td>\n",
       "      <td>3.1</td>\n",
       "      <td>8.0</td>\n",
       "      <td>5.0</td>\n",
       "      <td>1.0</td>\n",
       "      <td>...</td>\n",
       "      <td>0.0</td>\n",
       "      <td>0.0</td>\n",
       "      <td>0.0</td>\n",
       "      <td>0.0</td>\n",
       "      <td>0.0</td>\n",
       "      <td>1.0</td>\n",
       "      <td>1.0</td>\n",
       "      <td>1.0</td>\n",
       "      <td>0.0</td>\n",
       "      <td>0.0</td>\n",
       "    </tr>\n",
       "    <tr>\n",
       "      <th>4</th>\n",
       "      <td>01009</td>\n",
       "      <td>AL</td>\n",
       "      <td>Blount County, AL</td>\n",
       "      <td>Blount County</td>\n",
       "      <td>52902.0</td>\n",
       "      <td>25331.0</td>\n",
       "      <td>2.7</td>\n",
       "      <td>9.0</td>\n",
       "      <td>16.0</td>\n",
       "      <td>1.0</td>\n",
       "      <td>...</td>\n",
       "      <td>0.0</td>\n",
       "      <td>0.0</td>\n",
       "      <td>0.0</td>\n",
       "      <td>0.0</td>\n",
       "      <td>0.0</td>\n",
       "      <td>1.0</td>\n",
       "      <td>1.0</td>\n",
       "      <td>1.0</td>\n",
       "      <td>0.0</td>\n",
       "      <td>0.0</td>\n",
       "    </tr>\n",
       "  </tbody>\n",
       "</table>\n",
       "<p>5 rows × 21 columns</p>\n",
       "</div>"
      ],
      "text/plain": [
       "  FIPS_code Stabr           area_name       Area_Name  \\\n",
       "0     01001    AL  Autauga County, AL  Autauga County   \n",
       "1     01003    AL  Baldwin County, AL  Baldwin County   \n",
       "2     01005    AL  Barbour County, AL  Barbour County   \n",
       "3     01007    AL     Bibb County, AL     Bibb County   \n",
       "4     01009    AL   Blount County, AL   Blount County   \n",
       "\n",
       "   Median_Household_Income_2019  Civilian_labor_force_2019  \\\n",
       "0                       58233.0                    26172.0   \n",
       "1                       59871.0                    97328.0   \n",
       "2                       35972.0                     8537.0   \n",
       "3                       47918.0                     8685.0   \n",
       "4                       52902.0                    25331.0   \n",
       "\n",
       "   Unemployment_rate_2019  hwy_count  city_town_counts  Metro_2013  ...  \\\n",
       "0                     2.7        6.0               4.0         1.0  ...   \n",
       "1                     2.7       12.0              14.0         1.0  ...   \n",
       "2                     3.8       11.0               6.0         0.0  ...   \n",
       "3                     3.1        8.0               5.0         1.0  ...   \n",
       "4                     2.7        9.0              16.0         1.0  ...   \n",
       "\n",
       "   Farming_2015_Update  Mining_2015-Update  Manufacturing_2015_Update  \\\n",
       "0                  0.0                 0.0                        0.0   \n",
       "1                  0.0                 0.0                        0.0   \n",
       "2                  0.0                 0.0                        1.0   \n",
       "3                  0.0                 0.0                        0.0   \n",
       "4                  0.0                 0.0                        0.0   \n",
       "\n",
       "   Government_2015_Update  Recreation_2015_Update  Nonspecialized_2015_Update  \\\n",
       "0                     0.0                     0.0                         1.0   \n",
       "1                     0.0                     1.0                         0.0   \n",
       "2                     0.0                     0.0                         0.0   \n",
       "3                     0.0                     0.0                         1.0   \n",
       "4                     0.0                     0.0                         1.0   \n",
       "\n",
       "   Low_Education_2015_Update  Low_Employment_Cnty_2008_2012_25_64  \\\n",
       "0                        0.0                                  0.0   \n",
       "1                        0.0                                  0.0   \n",
       "2                        1.0                                  1.0   \n",
       "3                        1.0                                  1.0   \n",
       "4                        1.0                                  1.0   \n",
       "\n",
       "   Retirement_Dest_2015_Update  Persistent_Poverty_2013  \n",
       "0                          1.0                      0.0  \n",
       "1                          1.0                      0.0  \n",
       "2                          0.0                      1.0  \n",
       "3                          0.0                      0.0  \n",
       "4                          0.0                      0.0  \n",
       "\n",
       "[5 rows x 21 columns]"
      ]
     },
     "execution_count": 2,
     "metadata": {},
     "output_type": "execute_result"
    }
   ],
   "source": [
    "with open('county_model_data.pickle', 'rb') as read_file:\n",
    "    model_data = pickle.load(read_file)\n",
    "    \n",
    "model_data.head()"
   ]
  },
  {
   "cell_type": "code",
   "execution_count": 3,
   "id": "funded-strength",
   "metadata": {},
   "outputs": [
    {
     "data": {
      "image/png": "[encoded data removed]",
      "text/plain": [
       "<Figure size 432x288 with 1 Axes>"
      ]
     },
     "metadata": {
      "needs_background": "light"
     },
     "output_type": "display_data"
    }
   ],
   "source": [
    "# target \n",
    "model_data['Median_Household_Income_2019'].hist();"
   ]
  },
  {
   "cell_type": "code",
   "execution_count": 4,
   "id": "valid-hearing",
   "metadata": {},
   "outputs": [
    {
     "data": {
      "image/png": "[encoded data removed]",
      "text/plain": [
       "<Figure size 432x288 with 1 Axes>"
      ]
     },
     "metadata": {
      "needs_background": "light"
     },
     "output_type": "display_data"
    }
   ],
   "source": [
    "# try log transformation\n",
    "np.log(model_data['Median_Household_Income_2019']).hist();"
   ]
  },
  {
   "cell_type": "code",
   "execution_count": 5,
   "id": "following-appendix",
   "metadata": {},
   "outputs": [
    {
     "data": {
      "text/plain": [
       "(array([2.15393198, 2.15410657, 2.15051503, ..., 2.155112  , 2.15357976,\n",
       "        2.15405815]),\n",
       " -0.46132638607980164)"
      ]
     },
     "execution_count": 5,
     "metadata": {},
     "output_type": "execute_result"
    }
   ],
   "source": [
    "## try boxcox transform and find best lambda\n",
    "\n",
    "import scipy.stats as stats\n",
    "stats.boxcox(model_data['Median_Household_Income_2019'])\n",
    "\n",
    "# Returns a dataset transformed by a Box-Cox power transformation.\n",
    "# If lmbda is None, this will find the lambda that maximizes the log-likelihood function \n",
    "#     and return it as the second output argument.\n"
   ]
  },
  {
   "cell_type": "code",
   "execution_count": null,
   "id": "solid-westminster",
   "metadata": {},
   "outputs": [],
   "source": [
    "# the lambda is close to -0.5\n",
    "# lambda = -0.5   means  Y^-0.5 = 1/(Sqrt(Y))"
   ]
  },
  {
   "cell_type": "code",
   "execution_count": 16,
   "id": "continuous-title",
   "metadata": {},
   "outputs": [
    {
     "data": {
      "image/png": "[encoded data removed]",
      "text/plain": [
       "<Figure size 432x288 with 1 Axes>"
      ]
     },
     "metadata": {
      "needs_background": "light"
     },
     "output_type": "display_data"
    }
   ],
   "source": [
    "pd.Series(stats.boxcox(model_data['Median_Household_Income_2019'])[0]).hist();"
   ]
  },
  {
   "cell_type": "code",
   "execution_count": 17,
   "id": "illegal-heating",
   "metadata": {},
   "outputs": [
    {
     "data": {
      "image/png": "[encoded data removed]",
      "text/plain": [
       "<Figure size 432x288 with 3 Axes>"
      ]
     },
     "metadata": {
      "needs_background": "light"
     },
     "output_type": "display_data"
    }
   ],
   "source": [
    "# plot original target, log-transform, and 1/(Sqrt(Y)) transform\n",
    "\n",
    "fig = plt.figure()\n",
    "\n",
    "ax1 = fig.add_subplot(311)\n",
    "x = model_data['Median_Household_Income_2019']\n",
    "prob = stats.probplot(x, dist=stats.norm, plot=ax1)\n",
    "ax1.set_title('Probplot Raw Data')\n",
    "\n",
    "ax2 = fig.add_subplot(312)\n",
    "xL = np.log(model_data['Median_Household_Income_2019'])\n",
    "prob = stats.probplot(xL, dist=stats.norm, plot=ax2)\n",
    "ax2.set_title('Probplot after Log transformation')\n",
    "\n",
    "ax3 = fig.add_subplot(313)\n",
    "xt, _ = stats.boxcox(model_data['Median_Household_Income_2019'])\n",
    "prob = stats.probplot(xt, dist=stats.norm, plot=ax3)\n",
    "ax3.set_title('Probplot after Box-Cox transformation')\n",
    "\n",
    "plt.show()\n",
    "\n"
   ]
  },
  {
   "cell_type": "code",
   "execution_count": null,
   "id": "aerial-lighting",
   "metadata": {},
   "outputs": [],
   "source": []
  }
 ],
 "metadata": {
  "kernelspec": {
   "display_name": "Python 3",
   "language": "python",
   "name": "python3"
  },
  "language_info": {
   "codemirror_mode": {
    "name": "ipython",
    "version": 3
   },
   "file_extension": ".py",
   "mimetype": "text/x-python",
   "name": "python",
   "nbconvert_exporter": "python",
   "pygments_lexer": "ipython3",
   "version": "3.8.2"
  }
 },
 "nbformat": 4,
 "nbformat_minor": 5
}
