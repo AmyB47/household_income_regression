{
 "cells": [
  {
   "cell_type": "code",
   "execution_count": 1,
   "metadata": {},
   "outputs": [
    {
     "data": {
      "text/plain": [
       "'\\nFilter data file with population data from USDA to year 2019.\\nPivot table from tall to wide.\\n\\nOutput to pickle\\n'"
      ]
     },
     "execution_count": 1,
     "metadata": {},
     "output_type": "execute_result"
    }
   ],
   "source": [
    "\"\"\"\n",
    "Filter data file with population data from USDA to year 2019.\n",
    "\n",
    "Output to pickle\n",
    "\"\"\""
   ]
  },
  {
   "cell_type": "code",
   "execution_count": 2,
   "metadata": {},
   "outputs": [],
   "source": [
    "import pandas as pd\n",
    "import numpy as np\n",
    "import pickle\n"
   ]
  },
  {
   "cell_type": "code",
   "execution_count": 4,
   "metadata": {},
   "outputs": [
    {
     "data": {
      "text/plain": [
       "(3273, 165)"
      ]
     },
     "execution_count": 4,
     "metadata": {},
     "output_type": "execute_result"
    }
   ],
   "source": [
    "pop_est_all = pd.read_csv('../data/USDA_PopulationEstimates.csv', encoding='unicode-escape')\n",
    "pop_est_all.shape"
   ]
  },
  {
   "cell_type": "code",
   "execution_count": 5,
   "metadata": {},
   "outputs": [
    {
     "name": "stdout",
     "output_type": "stream",
     "text": [
      "<class 'pandas.core.frame.DataFrame'>\n",
      "RangeIndex: 3273 entries, 0 to 3272\n",
      "Columns: 165 entries, FIPStxt to R_NET_MIG_2019\n",
      "dtypes: float64(64), int64(1), object(100)\n",
      "memory usage: 4.1+ MB\n"
     ]
    }
   ],
   "source": [
    "pop_est_all.info()"
   ]
  },
  {
   "cell_type": "code",
   "execution_count": 8,
   "metadata": {},
   "outputs": [
    {
     "data": {
      "text/html": [
       "<div>\n",
       "<style scoped>\n",
       "    .dataframe tbody tr th:only-of-type {\n",
       "        vertical-align: middle;\n",
       "    }\n",
       "\n",
       "    .dataframe tbody tr th {\n",
       "        vertical-align: top;\n",
       "    }\n",
       "\n",
       "    .dataframe thead th {\n",
       "        text-align: right;\n",
       "    }\n",
       "</style>\n",
       "<table border=\"1\" class=\"dataframe\">\n",
       "  <thead>\n",
       "    <tr style=\"text-align: right;\">\n",
       "      <th></th>\n",
       "      <th>FIPStxt</th>\n",
       "      <th>State</th>\n",
       "      <th>Area_Name</th>\n",
       "      <th>Rural-urban_Continuum Code_2003</th>\n",
       "      <th>Rural-urban_Continuum Code_2013</th>\n",
       "      <th>Urban_Influence_Code_2003</th>\n",
       "      <th>Urban_Influence_Code_2013</th>\n",
       "      <th>Economic_typology_2015</th>\n",
       "      <th>CENSUS_2010_POP</th>\n",
       "      <th>ESTIMATES_BASE_2010</th>\n",
       "      <th>...</th>\n",
       "      <th>R_DOMESTIC_MIG_2019</th>\n",
       "      <th>R_NET_MIG_2011</th>\n",
       "      <th>R_NET_MIG_2012</th>\n",
       "      <th>R_NET_MIG_2013</th>\n",
       "      <th>R_NET_MIG_2014</th>\n",
       "      <th>R_NET_MIG_2015</th>\n",
       "      <th>R_NET_MIG_2016</th>\n",
       "      <th>R_NET_MIG_2017</th>\n",
       "      <th>R_NET_MIG_2018</th>\n",
       "      <th>R_NET_MIG_2019</th>\n",
       "    </tr>\n",
       "  </thead>\n",
       "  <tbody>\n",
       "    <tr>\n",
       "      <th>0</th>\n",
       "      <td>0</td>\n",
       "      <td>US</td>\n",
       "      <td>United States</td>\n",
       "      <td>NaN</td>\n",
       "      <td>NaN</td>\n",
       "      <td>NaN</td>\n",
       "      <td>NaN</td>\n",
       "      <td>NaN</td>\n",
       "      <td>308,745,538</td>\n",
       "      <td>308,758,105</td>\n",
       "      <td>...</td>\n",
       "      <td>NaN</td>\n",
       "      <td>NaN</td>\n",
       "      <td>NaN</td>\n",
       "      <td>NaN</td>\n",
       "      <td>NaN</td>\n",
       "      <td>NaN</td>\n",
       "      <td>NaN</td>\n",
       "      <td>NaN</td>\n",
       "      <td>NaN</td>\n",
       "      <td>NaN</td>\n",
       "    </tr>\n",
       "    <tr>\n",
       "      <th>1</th>\n",
       "      <td>1000</td>\n",
       "      <td>AL</td>\n",
       "      <td>Alabama</td>\n",
       "      <td>NaN</td>\n",
       "      <td>NaN</td>\n",
       "      <td>NaN</td>\n",
       "      <td>NaN</td>\n",
       "      <td>NaN</td>\n",
       "      <td>4,779,736</td>\n",
       "      <td>4,780,125</td>\n",
       "      <td>...</td>\n",
       "      <td>1.9</td>\n",
       "      <td>0.6</td>\n",
       "      <td>1.2</td>\n",
       "      <td>1.5</td>\n",
       "      <td>0.6</td>\n",
       "      <td>0.6</td>\n",
       "      <td>0.7</td>\n",
       "      <td>1.1</td>\n",
       "      <td>1.8</td>\n",
       "      <td>2.5</td>\n",
       "    </tr>\n",
       "    <tr>\n",
       "      <th>2</th>\n",
       "      <td>1001</td>\n",
       "      <td>AL</td>\n",
       "      <td>Autauga County</td>\n",
       "      <td>2.0</td>\n",
       "      <td>2.0</td>\n",
       "      <td>2.0</td>\n",
       "      <td>2.0</td>\n",
       "      <td>0.0</td>\n",
       "      <td>54,571</td>\n",
       "      <td>54,597</td>\n",
       "      <td>...</td>\n",
       "      <td>4.8</td>\n",
       "      <td>6.0</td>\n",
       "      <td>-6.2</td>\n",
       "      <td>-3.9</td>\n",
       "      <td>2.0</td>\n",
       "      <td>-1.7</td>\n",
       "      <td>4.8</td>\n",
       "      <td>0.8</td>\n",
       "      <td>0.5</td>\n",
       "      <td>4.6</td>\n",
       "    </tr>\n",
       "    <tr>\n",
       "      <th>3</th>\n",
       "      <td>1003</td>\n",
       "      <td>AL</td>\n",
       "      <td>Baldwin County</td>\n",
       "      <td>4.0</td>\n",
       "      <td>3.0</td>\n",
       "      <td>5.0</td>\n",
       "      <td>2.0</td>\n",
       "      <td>5.0</td>\n",
       "      <td>182,265</td>\n",
       "      <td>182,265</td>\n",
       "      <td>...</td>\n",
       "      <td>24.0</td>\n",
       "      <td>16.6</td>\n",
       "      <td>17.5</td>\n",
       "      <td>22.8</td>\n",
       "      <td>20.2</td>\n",
       "      <td>17.7</td>\n",
       "      <td>21.3</td>\n",
       "      <td>22.4</td>\n",
       "      <td>24.7</td>\n",
       "      <td>24.4</td>\n",
       "    </tr>\n",
       "    <tr>\n",
       "      <th>4</th>\n",
       "      <td>1005</td>\n",
       "      <td>AL</td>\n",
       "      <td>Barbour County</td>\n",
       "      <td>6.0</td>\n",
       "      <td>6.0</td>\n",
       "      <td>6.0</td>\n",
       "      <td>6.0</td>\n",
       "      <td>3.0</td>\n",
       "      <td>27,457</td>\n",
       "      <td>27,455</td>\n",
       "      <td>...</td>\n",
       "      <td>-5.7</td>\n",
       "      <td>0.3</td>\n",
       "      <td>-6.9</td>\n",
       "      <td>-8.1</td>\n",
       "      <td>-5.1</td>\n",
       "      <td>-15.7</td>\n",
       "      <td>-18.2</td>\n",
       "      <td>-25.0</td>\n",
       "      <td>-8.8</td>\n",
       "      <td>-5.2</td>\n",
       "    </tr>\n",
       "  </tbody>\n",
       "</table>\n",
       "<p>5 rows × 165 columns</p>\n",
       "</div>"
      ],
      "text/plain": [
       "   FIPStxt State       Area_Name  Rural-urban_Continuum Code_2003  \\\n",
       "0        0    US   United States                              NaN   \n",
       "1     1000    AL         Alabama                              NaN   \n",
       "2     1001    AL  Autauga County                              2.0   \n",
       "3     1003    AL  Baldwin County                              4.0   \n",
       "4     1005    AL  Barbour County                              6.0   \n",
       "\n",
       "   Rural-urban_Continuum Code_2013  Urban_Influence_Code_2003  \\\n",
       "0                              NaN                        NaN   \n",
       "1                              NaN                        NaN   \n",
       "2                              2.0                        2.0   \n",
       "3                              3.0                        5.0   \n",
       "4                              6.0                        6.0   \n",
       "\n",
       "   Urban_Influence_Code_2013  Economic_typology_2015 CENSUS_2010_POP  \\\n",
       "0                        NaN                     NaN     308,745,538   \n",
       "1                        NaN                     NaN       4,779,736   \n",
       "2                        2.0                     0.0          54,571   \n",
       "3                        2.0                     5.0         182,265   \n",
       "4                        6.0                     3.0          27,457   \n",
       "\n",
       "  ESTIMATES_BASE_2010  ... R_DOMESTIC_MIG_2019 R_NET_MIG_2011 R_NET_MIG_2012  \\\n",
       "0         308,758,105  ...                 NaN            NaN            NaN   \n",
       "1           4,780,125  ...                 1.9            0.6            1.2   \n",
       "2              54,597  ...                 4.8            6.0           -6.2   \n",
       "3             182,265  ...                24.0           16.6           17.5   \n",
       "4              27,455  ...                -5.7            0.3           -6.9   \n",
       "\n",
       "  R_NET_MIG_2013 R_NET_MIG_2014 R_NET_MIG_2015 R_NET_MIG_2016 R_NET_MIG_2017  \\\n",
       "0            NaN            NaN            NaN            NaN            NaN   \n",
       "1            1.5            0.6            0.6            0.7            1.1   \n",
       "2           -3.9            2.0           -1.7            4.8            0.8   \n",
       "3           22.8           20.2           17.7           21.3           22.4   \n",
       "4           -8.1           -5.1          -15.7          -18.2          -25.0   \n",
       "\n",
       "  R_NET_MIG_2018 R_NET_MIG_2019  \n",
       "0            NaN            NaN  \n",
       "1            1.8            2.5  \n",
       "2            0.5            4.6  \n",
       "3           24.7           24.4  \n",
       "4           -8.8           -5.2  \n",
       "\n",
       "[5 rows x 165 columns]"
      ]
     },
     "execution_count": 8,
     "metadata": {},
     "output_type": "execute_result"
    }
   ],
   "source": [
    "pop_est_all.head()"
   ]
  },
  {
   "cell_type": "code",
   "execution_count": 7,
   "metadata": {},
   "outputs": [
    {
     "data": {
      "text/plain": [
       "Index(['FIPStxt', 'State', 'Area_Name', 'Rural-urban_Continuum Code_2003',\n",
       "       'Rural-urban_Continuum Code_2013', 'Urban_Influence_Code_2003',\n",
       "       'Urban_Influence_Code_2013', 'Economic_typology_2015',\n",
       "       'CENSUS_2010_POP', 'ESTIMATES_BASE_2010',\n",
       "       ...\n",
       "       'R_DOMESTIC_MIG_2019', 'R_NET_MIG_2011', 'R_NET_MIG_2012',\n",
       "       'R_NET_MIG_2013', 'R_NET_MIG_2014', 'R_NET_MIG_2015', 'R_NET_MIG_2016',\n",
       "       'R_NET_MIG_2017', 'R_NET_MIG_2018', 'R_NET_MIG_2019'],\n",
       "      dtype='object', length=165)"
      ]
     },
     "execution_count": 7,
     "metadata": {},
     "output_type": "execute_result"
    }
   ],
   "source": [
    "pop_est_all.columns"
   ]
  },
  {
   "cell_type": "code",
   "execution_count": 10,
   "metadata": {},
   "outputs": [
    {
     "data": {
      "text/html": [
       "<div>\n",
       "<style scoped>\n",
       "    .dataframe tbody tr th:only-of-type {\n",
       "        vertical-align: middle;\n",
       "    }\n",
       "\n",
       "    .dataframe tbody tr th {\n",
       "        vertical-align: top;\n",
       "    }\n",
       "\n",
       "    .dataframe thead th {\n",
       "        text-align: right;\n",
       "    }\n",
       "</style>\n",
       "<table border=\"1\" class=\"dataframe\">\n",
       "  <thead>\n",
       "    <tr style=\"text-align: right;\">\n",
       "      <th></th>\n",
       "      <th>FIPStxt</th>\n",
       "      <th>State</th>\n",
       "      <th>Area_Name</th>\n",
       "      <th>POP_ESTIMATE_2019</th>\n",
       "      <th>N_POP_CHG_2019</th>\n",
       "    </tr>\n",
       "  </thead>\n",
       "  <tbody>\n",
       "    <tr>\n",
       "      <th>0</th>\n",
       "      <td>0</td>\n",
       "      <td>US</td>\n",
       "      <td>United States</td>\n",
       "      <td>328,239,523</td>\n",
       "      <td>1,552,022</td>\n",
       "    </tr>\n",
       "    <tr>\n",
       "      <th>1</th>\n",
       "      <td>1000</td>\n",
       "      <td>AL</td>\n",
       "      <td>Alabama</td>\n",
       "      <td>4,903,185</td>\n",
       "      <td>15,504</td>\n",
       "    </tr>\n",
       "    <tr>\n",
       "      <th>2</th>\n",
       "      <td>1001</td>\n",
       "      <td>AL</td>\n",
       "      <td>Autauga County</td>\n",
       "      <td>55,869</td>\n",
       "      <td>336</td>\n",
       "    </tr>\n",
       "    <tr>\n",
       "      <th>3</th>\n",
       "      <td>1003</td>\n",
       "      <td>AL</td>\n",
       "      <td>Baldwin County</td>\n",
       "      <td>223,234</td>\n",
       "      <td>5,379</td>\n",
       "    </tr>\n",
       "    <tr>\n",
       "      <th>4</th>\n",
       "      <td>1005</td>\n",
       "      <td>AL</td>\n",
       "      <td>Barbour County</td>\n",
       "      <td>24,686</td>\n",
       "      <td>-186</td>\n",
       "    </tr>\n",
       "  </tbody>\n",
       "</table>\n",
       "</div>"
      ],
      "text/plain": [
       "   FIPStxt State       Area_Name POP_ESTIMATE_2019 N_POP_CHG_2019\n",
       "0        0    US   United States       328,239,523      1,552,022\n",
       "1     1000    AL         Alabama         4,903,185         15,504\n",
       "2     1001    AL  Autauga County            55,869            336\n",
       "3     1003    AL  Baldwin County           223,234          5,379\n",
       "4     1005    AL  Barbour County            24,686           -186"
      ]
     },
     "execution_count": 10,
     "metadata": {},
     "output_type": "execute_result"
    }
   ],
   "source": [
    "pop_est_filter = pop_est_all[['FIPStxt', 'State', 'Area_Name', 'POP_ESTIMATE_2019', 'N_POP_CHG_2019']]\n",
    "pop_est_filter.head()"
   ]
  },
  {
   "cell_type": "code",
   "execution_count": 11,
   "metadata": {},
   "outputs": [],
   "source": [
    "with open('pop_est_2019.pickle', 'wb') as to_write:\n",
    "    pickle.dump(pop_est_filter, to_write)"
   ]
  },
  {
   "cell_type": "code",
   "execution_count": null,
   "metadata": {},
   "outputs": [],
   "source": []
  }
 ],
 "metadata": {
  "kernelspec": {
   "display_name": "Python 3",
   "language": "python",
   "name": "python3"
  },
  "language_info": {
   "codemirror_mode": {
    "name": "ipython",
    "version": 3
   },
   "file_extension": ".py",
   "mimetype": "text/x-python",
   "name": "python",
   "nbconvert_exporter": "python",
   "pygments_lexer": "ipython3",
   "version": "3.8.5"
  }
 },
 "nbformat": 4,
 "nbformat_minor": 4
}
