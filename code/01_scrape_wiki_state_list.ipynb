{
 "cells": [
  {
   "cell_type": "code",
   "execution_count": null,
   "metadata": {},
   "outputs": [],
   "source": [
    "\"\"\"\n",
    "\n",
    "Get list of state pages from the Wikipedia page\n",
    "https://en.wikipedia.org/wiki/County_(United_States)\n",
    "\n",
    "scrape page and output to pickle the state name and wikipedia link\n",
    "\n",
    "scrape page and output to pickle the table with county aggregates by state\n",
    "\n",
    "\"\"\""
   ]
  },
  {
   "cell_type": "code",
   "execution_count": 1,
   "metadata": {},
   "outputs": [],
   "source": [
    "from bs4 import BeautifulSoup\n",
    "import requests\n",
    "\n",
    "import numpy as np\n",
    "import pandas as pd\n",
    "\n",
    "import pickle"
   ]
  },
  {
   "cell_type": "code",
   "execution_count": 2,
   "metadata": {},
   "outputs": [],
   "source": [
    "url = 'https://en.wikipedia.org/wiki/County_(United_States)' \n",
    "\n",
    "response = requests.get(url)"
   ]
  },
  {
   "cell_type": "code",
   "execution_count": 3,
   "metadata": {},
   "outputs": [
    {
     "data": {
      "text/plain": [
       "200"
      ]
     },
     "execution_count": 3,
     "metadata": {},
     "output_type": "execute_result"
    }
   ],
   "source": [
    "response.status_code  #200 = success!"
   ]
  },
  {
   "cell_type": "code",
   "execution_count": 4,
   "metadata": {},
   "outputs": [
    {
     "data": {
      "text/plain": [
       "'<!DOCTYPE html>\\n<html class=\"client-nojs\" lang=\"en\" dir=\"ltr\">\\n<head>\\n<meta charset=\"UTF-8\"/>\\n<title>County (United States) - Wikipedia</title>\\n<script>document.documentElement.className=\"client-js\";RLCONF={\"wgBreakFrames\":!1,\"wgSeparatorTransformTable\":[\"\",\"\"],\"wgDigitTransformTable\":[\"\",\"\"],\"wgDefaultDateFormat\":\"dmy\",\"wgMonthNames\":[\"\",\"January\",\"February\",\"March\",\"April\",\"May\",\"June\",\"July\",\"August\",\"September\",\"October\",\"November\",\"December\"],\"wgRequestId\":\"YAHX8wpAADsAAGmDOB4AAAAL\",\"wgCSPNonce\":!1,\"wgCanonicalNamespace\":\"\",\"wgCanonicalSpecialPageName\":!1,\"wgNamespaceNumber\":0,\"wgPageName\":\"County_(United_States)\",\"wgTitle\":\"County (United States)\",\"wgCurRevisionId\":1000221236,\"wgRevisionId\":1000221236,\"wgArticleId\":88366,\"wgIsArticle\":!0,\"wgIsRedirect\":!1,\"wgAction\":\"view\",\"wgUserName\":null,\"wgUserGroups\":[\"*\"],\"wgCategories\":[\"All articles with dead external links\",\"Articles with dead external links from April 2020\",\"Webarchive template wayback links\",\"Articles with dead externa'"
      ]
     },
     "execution_count": 4,
     "metadata": {},
     "output_type": "execute_result"
    }
   ],
   "source": [
    "response.text[:1000]  #First 1000 characters of the HTML"
   ]
  },
  {
   "cell_type": "code",
   "execution_count": 5,
   "metadata": {},
   "outputs": [],
   "source": [
    "page = response.text"
   ]
  },
  {
   "cell_type": "code",
   "execution_count": 6,
   "metadata": {},
   "outputs": [],
   "source": [
    "soup = BeautifulSoup(page)"
   ]
  },
  {
   "cell_type": "code",
   "execution_count": 10,
   "metadata": {},
   "outputs": [],
   "source": [
    "#soup"
   ]
  },
  {
   "cell_type": "code",
   "execution_count": 11,
   "metadata": {},
   "outputs": [],
   "source": [
    "#print(soup.prettify())"
   ]
  },
  {
   "cell_type": "code",
   "execution_count": 19,
   "metadata": {},
   "outputs": [],
   "source": [
    "table = soup.find_all(class_ ='flagicon')\n",
    "#table\n"
   ]
  },
  {
   "cell_type": "code",
   "execution_count": 13,
   "metadata": {},
   "outputs": [],
   "source": [
    "headers = ['state', 'wiki_link']\n",
    "\n",
    "state_pages = []\n",
    "\n",
    "for st in table:\n",
    "\n",
    "    state = st.find('a').get('title')\n",
    "    state_link = st.find('a').findNext('a').get('href')\n",
    "\n",
    "    links_dict = dict(zip(headers, [state, state_link]))\n",
    "\n",
    "    state_pages.append(links_dict)\n"
   ]
  },
  {
   "cell_type": "code",
   "execution_count": 18,
   "metadata": {},
   "outputs": [],
   "source": [
    "#state_pages"
   ]
  },
  {
   "cell_type": "code",
   "execution_count": 15,
   "metadata": {},
   "outputs": [
    {
     "data": {
      "text/html": [
       "<div>\n",
       "<style scoped>\n",
       "    .dataframe tbody tr th:only-of-type {\n",
       "        vertical-align: middle;\n",
       "    }\n",
       "\n",
       "    .dataframe tbody tr th {\n",
       "        vertical-align: top;\n",
       "    }\n",
       "\n",
       "    .dataframe thead th {\n",
       "        text-align: right;\n",
       "    }\n",
       "</style>\n",
       "<table border=\"1\" class=\"dataframe\">\n",
       "  <thead>\n",
       "    <tr style=\"text-align: right;\">\n",
       "      <th></th>\n",
       "      <th>state</th>\n",
       "      <th>wiki_link</th>\n",
       "    </tr>\n",
       "  </thead>\n",
       "  <tbody>\n",
       "    <tr>\n",
       "      <th>0</th>\n",
       "      <td>Alabama</td>\n",
       "      <td>/wiki/List_of_counties_in_Alabama</td>\n",
       "    </tr>\n",
       "    <tr>\n",
       "      <th>1</th>\n",
       "      <td>Alaska</td>\n",
       "      <td>/wiki/List_of_boroughs_and_census_areas_in_Alaska</td>\n",
       "    </tr>\n",
       "    <tr>\n",
       "      <th>2</th>\n",
       "      <td>Arizona</td>\n",
       "      <td>/wiki/List_of_counties_in_Arizona</td>\n",
       "    </tr>\n",
       "    <tr>\n",
       "      <th>3</th>\n",
       "      <td>Arkansas</td>\n",
       "      <td>/wiki/List_of_counties_in_Arkansas</td>\n",
       "    </tr>\n",
       "    <tr>\n",
       "      <th>4</th>\n",
       "      <td>California</td>\n",
       "      <td>/wiki/List_of_counties_in_California</td>\n",
       "    </tr>\n",
       "  </tbody>\n",
       "</table>\n",
       "</div>"
      ],
      "text/plain": [
       "        state                                          wiki_link\n",
       "0     Alabama                  /wiki/List_of_counties_in_Alabama\n",
       "1      Alaska  /wiki/List_of_boroughs_and_census_areas_in_Alaska\n",
       "2     Arizona                  /wiki/List_of_counties_in_Arizona\n",
       "3    Arkansas                 /wiki/List_of_counties_in_Arkansas\n",
       "4  California               /wiki/List_of_counties_in_California"
      ]
     },
     "execution_count": 15,
     "metadata": {},
     "output_type": "execute_result"
    }
   ],
   "source": [
    "# put the list of links into a df\n",
    "df_state_links = pd.DataFrame(state_pages)\n",
    "\n",
    "df_state_links.head()"
   ]
  },
  {
   "cell_type": "code",
   "execution_count": 16,
   "metadata": {},
   "outputs": [
    {
     "data": {
      "text/plain": [
       "57"
      ]
     },
     "execution_count": 16,
     "metadata": {},
     "output_type": "execute_result"
    }
   ],
   "source": [
    "len(df_state_links)"
   ]
  },
  {
   "cell_type": "code",
   "execution_count": 17,
   "metadata": {},
   "outputs": [
    {
     "data": {
      "text/html": [
       "<div>\n",
       "<style scoped>\n",
       "    .dataframe tbody tr th:only-of-type {\n",
       "        vertical-align: middle;\n",
       "    }\n",
       "\n",
       "    .dataframe tbody tr th {\n",
       "        vertical-align: top;\n",
       "    }\n",
       "\n",
       "    .dataframe thead th {\n",
       "        text-align: right;\n",
       "    }\n",
       "</style>\n",
       "<table border=\"1\" class=\"dataframe\">\n",
       "  <thead>\n",
       "    <tr style=\"text-align: right;\">\n",
       "      <th></th>\n",
       "      <th>state</th>\n",
       "      <th>wiki_link</th>\n",
       "    </tr>\n",
       "  </thead>\n",
       "  <tbody>\n",
       "    <tr>\n",
       "      <th>47</th>\n",
       "      <td>Washington (state)</td>\n",
       "      <td>/wiki/List_of_counties_in_Washington</td>\n",
       "    </tr>\n",
       "    <tr>\n",
       "      <th>48</th>\n",
       "      <td>West Virginia</td>\n",
       "      <td>/wiki/List_of_counties_in_West_Virginia</td>\n",
       "    </tr>\n",
       "    <tr>\n",
       "      <th>49</th>\n",
       "      <td>Wisconsin</td>\n",
       "      <td>/wiki/List_of_counties_in_Wisconsin</td>\n",
       "    </tr>\n",
       "    <tr>\n",
       "      <th>50</th>\n",
       "      <td>Wyoming</td>\n",
       "      <td>/wiki/List_of_counties_in_Wyoming</td>\n",
       "    </tr>\n",
       "    <tr>\n",
       "      <th>51</th>\n",
       "      <td>American Samoa</td>\n",
       "      <td>/wiki/Administrative_divisions_of_American_Samoa</td>\n",
       "    </tr>\n",
       "    <tr>\n",
       "      <th>52</th>\n",
       "      <td>Guam</td>\n",
       "      <td>/wiki/List_of_populated_places_in_Guam</td>\n",
       "    </tr>\n",
       "    <tr>\n",
       "      <th>53</th>\n",
       "      <td>Northern Mariana Islands</td>\n",
       "      <td>/wiki/Northern_Mariana_Islands#Administrative_...</td>\n",
       "    </tr>\n",
       "    <tr>\n",
       "      <th>54</th>\n",
       "      <td>Puerto Rico</td>\n",
       "      <td>/wiki/Municipalities_of_Puerto_Rico</td>\n",
       "    </tr>\n",
       "    <tr>\n",
       "      <th>55</th>\n",
       "      <td>United States</td>\n",
       "      <td>/wiki/U.S._Minor_Outlying_Islands</td>\n",
       "    </tr>\n",
       "    <tr>\n",
       "      <th>56</th>\n",
       "      <td>United States Virgin Islands</td>\n",
       "      <td>/wiki/United_States_Virgin_Islands</td>\n",
       "    </tr>\n",
       "  </tbody>\n",
       "</table>\n",
       "</div>"
      ],
      "text/plain": [
       "                           state  \\\n",
       "47            Washington (state)   \n",
       "48                 West Virginia   \n",
       "49                     Wisconsin   \n",
       "50                       Wyoming   \n",
       "51                American Samoa   \n",
       "52                          Guam   \n",
       "53      Northern Mariana Islands   \n",
       "54                   Puerto Rico   \n",
       "55                 United States   \n",
       "56  United States Virgin Islands   \n",
       "\n",
       "                                            wiki_link  \n",
       "47               /wiki/List_of_counties_in_Washington  \n",
       "48            /wiki/List_of_counties_in_West_Virginia  \n",
       "49                /wiki/List_of_counties_in_Wisconsin  \n",
       "50                  /wiki/List_of_counties_in_Wyoming  \n",
       "51   /wiki/Administrative_divisions_of_American_Samoa  \n",
       "52             /wiki/List_of_populated_places_in_Guam  \n",
       "53  /wiki/Northern_Mariana_Islands#Administrative_...  \n",
       "54                /wiki/Municipalities_of_Puerto_Rico  \n",
       "55                  /wiki/U.S._Minor_Outlying_Islands  \n",
       "56                 /wiki/United_States_Virgin_Islands  "
      ]
     },
     "execution_count": 17,
     "metadata": {},
     "output_type": "execute_result"
    }
   ],
   "source": [
    "df_state_links.tail(10)"
   ]
  },
  {
   "cell_type": "code",
   "execution_count": 20,
   "metadata": {},
   "outputs": [],
   "source": [
    "with open('state_wiki_links.pickle', 'wb') as to_write:\n",
    "    pickle.dump(df_state_links, to_write)"
   ]
  },
  {
   "cell_type": "code",
   "execution_count": null,
   "metadata": {},
   "outputs": [],
   "source": [
    "# for each state and territory listed scrape from page table:\n",
    "\n",
    "# state\n",
    "# 2019 total population\n",
    "# land area\n",
    "# counties\n",
    "# equivalents\n",
    "# total counties + equivalents\n",
    "# avg population \n",
    "# avg land area "
   ]
  },
  {
   "cell_type": "code",
   "execution_count": 17,
   "metadata": {},
   "outputs": [],
   "source": [
    "table_data = soup.find(class_='wikitable sortable').find_all('td')\n",
    "#table_data"
   ]
  },
  {
   "cell_type": "code",
   "execution_count": 18,
   "metadata": {},
   "outputs": [],
   "source": [
    "state_data = [x.text.strip() for x in table_data]\n",
    "#state_data"
   ]
  },
  {
   "cell_type": "code",
   "execution_count": 25,
   "metadata": {},
   "outputs": [
    {
     "data": {
      "text/plain": [
       "472"
      ]
     },
     "execution_count": 25,
     "metadata": {},
     "output_type": "execute_result"
    }
   ],
   "source": [
    "len(state_data)"
   ]
  },
  {
   "cell_type": "code",
   "execution_count": 19,
   "metadata": {},
   "outputs": [],
   "source": [
    "state_data_array = np.array(state_data).reshape(59,8)\n",
    "#state_data_array"
   ]
  },
  {
   "cell_type": "code",
   "execution_count": 28,
   "metadata": {},
   "outputs": [
    {
     "data": {
      "text/html": [
       "<div>\n",
       "<style scoped>\n",
       "    .dataframe tbody tr th:only-of-type {\n",
       "        vertical-align: middle;\n",
       "    }\n",
       "\n",
       "    .dataframe tbody tr th {\n",
       "        vertical-align: top;\n",
       "    }\n",
       "\n",
       "    .dataframe thead th {\n",
       "        text-align: right;\n",
       "    }\n",
       "</style>\n",
       "<table border=\"1\" class=\"dataframe\">\n",
       "  <thead>\n",
       "    <tr style=\"text-align: right;\">\n",
       "      <th></th>\n",
       "      <th>0</th>\n",
       "      <th>1</th>\n",
       "      <th>2</th>\n",
       "      <th>3</th>\n",
       "      <th>4</th>\n",
       "      <th>5</th>\n",
       "      <th>6</th>\n",
       "      <th>7</th>\n",
       "    </tr>\n",
       "  </thead>\n",
       "  <tbody>\n",
       "    <tr>\n",
       "      <th>0</th>\n",
       "      <td>Alabama</td>\n",
       "      <td>4,903,185</td>\n",
       "      <td>50,645 sq mi131,171 km2</td>\n",
       "      <td>67</td>\n",
       "      <td>—</td>\n",
       "      <td>67</td>\n",
       "      <td>73,182</td>\n",
       "      <td>756 sq mi1,958 km2</td>\n",
       "    </tr>\n",
       "    <tr>\n",
       "      <th>1</th>\n",
       "      <td>Alaska[g]</td>\n",
       "      <td>731,545</td>\n",
       "      <td>570,641 sq mi1,477,953 km2</td>\n",
       "      <td>—</td>\n",
       "      <td>30</td>\n",
       "      <td>30</td>\n",
       "      <td>24,385</td>\n",
       "      <td>19,677 sq mi50,964 km2</td>\n",
       "    </tr>\n",
       "    <tr>\n",
       "      <th>2</th>\n",
       "      <td>Arizona</td>\n",
       "      <td>7,278,717</td>\n",
       "      <td>113,594 sq mi294,207 km2</td>\n",
       "      <td>15</td>\n",
       "      <td>—</td>\n",
       "      <td>15</td>\n",
       "      <td>485,248</td>\n",
       "      <td>7,573 sq mi19,614 km2</td>\n",
       "    </tr>\n",
       "    <tr>\n",
       "      <th>3</th>\n",
       "      <td>Arkansas</td>\n",
       "      <td>3,017,825</td>\n",
       "      <td>52,035 sq mi134,771 km2</td>\n",
       "      <td>75</td>\n",
       "      <td>—</td>\n",
       "      <td>75</td>\n",
       "      <td>40,238</td>\n",
       "      <td>694 sq mi1,797 km2</td>\n",
       "    </tr>\n",
       "    <tr>\n",
       "      <th>4</th>\n",
       "      <td>California</td>\n",
       "      <td>39,512,223</td>\n",
       "      <td>155,779 sq mi403,466 km2</td>\n",
       "      <td>58</td>\n",
       "      <td>—</td>\n",
       "      <td>58</td>\n",
       "      <td>681,245</td>\n",
       "      <td>2,686 sq mi6,956 km2</td>\n",
       "    </tr>\n",
       "  </tbody>\n",
       "</table>\n",
       "</div>"
      ],
      "text/plain": [
       "            0           1                           2   3   4   5        6  \\\n",
       "0     Alabama   4,903,185     50,645 sq mi131,171 km2  67   —  67   73,182   \n",
       "1   Alaska[g]     731,545  570,641 sq mi1,477,953 km2   —  30  30   24,385   \n",
       "2     Arizona   7,278,717    113,594 sq mi294,207 km2  15   —  15  485,248   \n",
       "3    Arkansas   3,017,825     52,035 sq mi134,771 km2  75   —  75   40,238   \n",
       "4  California  39,512,223    155,779 sq mi403,466 km2  58   —  58  681,245   \n",
       "\n",
       "                        7  \n",
       "0      756 sq mi1,958 km2  \n",
       "1  19,677 sq mi50,964 km2  \n",
       "2   7,573 sq mi19,614 km2  \n",
       "3      694 sq mi1,797 km2  \n",
       "4    2,686 sq mi6,956 km2  "
      ]
     },
     "execution_count": 28,
     "metadata": {},
     "output_type": "execute_result"
    }
   ],
   "source": [
    "df_st_data = pd.DataFrame(state_data_array)\n",
    "df_st_data.head(5)"
   ]
  },
  {
   "cell_type": "code",
   "execution_count": 38,
   "metadata": {},
   "outputs": [],
   "source": [
    "col_titles = ['State, federal district, or territory',\n",
    "          'Total 2019 population',\n",
    "          'Total Land area',\n",
    "          'Counties',\n",
    "          'Equivalents',\n",
    "          'Total',\n",
    "          'Average Population',\n",
    "          'Average Land area']\n",
    "\n",
    "df_st_data.columns = col_titles"
   ]
  },
  {
   "cell_type": "code",
   "execution_count": 39,
   "metadata": {},
   "outputs": [
    {
     "data": {
      "text/html": [
       "<div>\n",
       "<style scoped>\n",
       "    .dataframe tbody tr th:only-of-type {\n",
       "        vertical-align: middle;\n",
       "    }\n",
       "\n",
       "    .dataframe tbody tr th {\n",
       "        vertical-align: top;\n",
       "    }\n",
       "\n",
       "    .dataframe thead th {\n",
       "        text-align: right;\n",
       "    }\n",
       "</style>\n",
       "<table border=\"1\" class=\"dataframe\">\n",
       "  <thead>\n",
       "    <tr style=\"text-align: right;\">\n",
       "      <th></th>\n",
       "      <th>State, federal district, or territory</th>\n",
       "      <th>Total 2019 population</th>\n",
       "      <th>Total Land area</th>\n",
       "      <th>Counties</th>\n",
       "      <th>Equivalents</th>\n",
       "      <th>Total</th>\n",
       "      <th>Average Population</th>\n",
       "      <th>Average Land area</th>\n",
       "    </tr>\n",
       "  </thead>\n",
       "  <tbody>\n",
       "    <tr>\n",
       "      <th>0</th>\n",
       "      <td>Alabama</td>\n",
       "      <td>4,903,185</td>\n",
       "      <td>50,645 sq mi131,171 km2</td>\n",
       "      <td>67</td>\n",
       "      <td>—</td>\n",
       "      <td>67</td>\n",
       "      <td>73,182</td>\n",
       "      <td>756 sq mi1,958 km2</td>\n",
       "    </tr>\n",
       "    <tr>\n",
       "      <th>1</th>\n",
       "      <td>Alaska[g]</td>\n",
       "      <td>731,545</td>\n",
       "      <td>570,641 sq mi1,477,953 km2</td>\n",
       "      <td>—</td>\n",
       "      <td>30</td>\n",
       "      <td>30</td>\n",
       "      <td>24,385</td>\n",
       "      <td>19,677 sq mi50,964 km2</td>\n",
       "    </tr>\n",
       "    <tr>\n",
       "      <th>2</th>\n",
       "      <td>Arizona</td>\n",
       "      <td>7,278,717</td>\n",
       "      <td>113,594 sq mi294,207 km2</td>\n",
       "      <td>15</td>\n",
       "      <td>—</td>\n",
       "      <td>15</td>\n",
       "      <td>485,248</td>\n",
       "      <td>7,573 sq mi19,614 km2</td>\n",
       "    </tr>\n",
       "    <tr>\n",
       "      <th>3</th>\n",
       "      <td>Arkansas</td>\n",
       "      <td>3,017,825</td>\n",
       "      <td>52,035 sq mi134,771 km2</td>\n",
       "      <td>75</td>\n",
       "      <td>—</td>\n",
       "      <td>75</td>\n",
       "      <td>40,238</td>\n",
       "      <td>694 sq mi1,797 km2</td>\n",
       "    </tr>\n",
       "    <tr>\n",
       "      <th>4</th>\n",
       "      <td>California</td>\n",
       "      <td>39,512,223</td>\n",
       "      <td>155,779 sq mi403,466 km2</td>\n",
       "      <td>58</td>\n",
       "      <td>—</td>\n",
       "      <td>58</td>\n",
       "      <td>681,245</td>\n",
       "      <td>2,686 sq mi6,956 km2</td>\n",
       "    </tr>\n",
       "  </tbody>\n",
       "</table>\n",
       "</div>"
      ],
      "text/plain": [
       "  State, federal district, or territory Total 2019 population  \\\n",
       "0                               Alabama             4,903,185   \n",
       "1                             Alaska[g]               731,545   \n",
       "2                               Arizona             7,278,717   \n",
       "3                              Arkansas             3,017,825   \n",
       "4                            California            39,512,223   \n",
       "\n",
       "              Total Land area Counties Equivalents Total Average Population  \\\n",
       "0     50,645 sq mi131,171 km2       67           —    67             73,182   \n",
       "1  570,641 sq mi1,477,953 km2        —          30    30             24,385   \n",
       "2    113,594 sq mi294,207 km2       15           —    15            485,248   \n",
       "3     52,035 sq mi134,771 km2       75           —    75             40,238   \n",
       "4    155,779 sq mi403,466 km2       58           —    58            681,245   \n",
       "\n",
       "        Average Land area  \n",
       "0      756 sq mi1,958 km2  \n",
       "1  19,677 sq mi50,964 km2  \n",
       "2   7,573 sq mi19,614 km2  \n",
       "3      694 sq mi1,797 km2  \n",
       "4    2,686 sq mi6,956 km2  "
      ]
     },
     "execution_count": 39,
     "metadata": {},
     "output_type": "execute_result"
    }
   ],
   "source": [
    "df_st_data.head(5)"
   ]
  },
  {
   "cell_type": "code",
   "execution_count": 41,
   "metadata": {},
   "outputs": [],
   "source": [
    "with open('state_wiki_data.pickle', 'wb') as to_write:\n",
    "    pickle.dump(df_st_data, to_write)"
   ]
  },
  {
   "cell_type": "code",
   "execution_count": 67,
   "metadata": {},
   "outputs": [],
   "source": []
  },
  {
   "cell_type": "code",
   "execution_count": null,
   "metadata": {},
   "outputs": [],
   "source": []
  }
 ],
 "metadata": {
  "kernelspec": {
   "display_name": "Python 3",
   "language": "python",
   "name": "python3"
  },
  "language_info": {
   "codemirror_mode": {
    "name": "ipython",
    "version": 3
   },
   "file_extension": ".py",
   "mimetype": "text/x-python",
   "name": "python",
   "nbconvert_exporter": "python",
   "pygments_lexer": "ipython3",
   "version": "3.8.5"
  }
 },
 "nbformat": 4,
 "nbformat_minor": 4
}
