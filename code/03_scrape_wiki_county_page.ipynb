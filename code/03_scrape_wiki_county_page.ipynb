{
 "cells": [
  {
   "cell_type": "code",
   "execution_count": null,
   "metadata": {},
   "outputs": [],
   "source": [
    "\"\"\"\n",
    "\n",
    "Get data for features from each of the county Wikipedia pages\n",
    "Loop over list of URLs of Wikipedia pages for each US county \n",
    "\n",
    "features to collect:\n",
    "highways\n",
    "cities\n",
    "towns\n",
    "\n",
    "output to pickle\n",
    "\n",
    "Run time: about 45 min\n",
    "\n",
    "\"\"\""
   ]
  },
  {
   "cell_type": "code",
   "execution_count": 1,
   "metadata": {},
   "outputs": [],
   "source": [
    "from bs4 import BeautifulSoup\n",
    "import requests\n",
    "\n",
    "import numpy as np\n",
    "import pandas as pd\n",
    "\n",
    "import pickle\n",
    "import time\n",
    "\n",
    "import regex as re"
   ]
  },
  {
   "cell_type": "code",
   "execution_count": 2,
   "metadata": {},
   "outputs": [],
   "source": [
    "# list of county page wikipedia links \n",
    "\n",
    "with open('county_wiki_links.pickle', 'rb') as read_file:\n",
    "    county_links = pickle.load(read_file)"
   ]
  },
  {
   "cell_type": "code",
   "execution_count": 3,
   "metadata": {},
   "outputs": [
    {
     "data": {
      "text/html": [
       "<div>\n",
       "<style scoped>\n",
       "    .dataframe tbody tr th:only-of-type {\n",
       "        vertical-align: middle;\n",
       "    }\n",
       "\n",
       "    .dataframe tbody tr th {\n",
       "        vertical-align: top;\n",
       "    }\n",
       "\n",
       "    .dataframe thead th {\n",
       "        text-align: right;\n",
       "    }\n",
       "</style>\n",
       "<table border=\"1\" class=\"dataframe\">\n",
       "  <thead>\n",
       "    <tr style=\"text-align: right;\">\n",
       "      <th></th>\n",
       "      <th>state</th>\n",
       "      <th>FIPS_code</th>\n",
       "      <th>county_name</th>\n",
       "      <th>wiki_link</th>\n",
       "    </tr>\n",
       "  </thead>\n",
       "  <tbody>\n",
       "    <tr>\n",
       "      <th>0</th>\n",
       "      <td>Alabama</td>\n",
       "      <td>001</td>\n",
       "      <td>Autauga County, Alabama</td>\n",
       "      <td>/wiki/Autauga_County,_Alabama</td>\n",
       "    </tr>\n",
       "    <tr>\n",
       "      <th>1</th>\n",
       "      <td>Alabama</td>\n",
       "      <td>003</td>\n",
       "      <td>Baldwin County, Alabama</td>\n",
       "      <td>/wiki/Baldwin_County,_Alabama</td>\n",
       "    </tr>\n",
       "    <tr>\n",
       "      <th>2</th>\n",
       "      <td>Alabama</td>\n",
       "      <td>005</td>\n",
       "      <td>Barbour County, Alabama</td>\n",
       "      <td>/wiki/Barbour_County,_Alabama</td>\n",
       "    </tr>\n",
       "    <tr>\n",
       "      <th>3</th>\n",
       "      <td>Alabama</td>\n",
       "      <td>007</td>\n",
       "      <td>Bibb County, Alabama</td>\n",
       "      <td>/wiki/Bibb_County,_Alabama</td>\n",
       "    </tr>\n",
       "    <tr>\n",
       "      <th>4</th>\n",
       "      <td>Alabama</td>\n",
       "      <td>009</td>\n",
       "      <td>Blount County, Alabama</td>\n",
       "      <td>/wiki/Blount_County,_Alabama</td>\n",
       "    </tr>\n",
       "  </tbody>\n",
       "</table>\n",
       "</div>"
      ],
      "text/plain": [
       "     state FIPS_code              county_name                      wiki_link\n",
       "0  Alabama       001  Autauga County, Alabama  /wiki/Autauga_County,_Alabama\n",
       "1  Alabama       003  Baldwin County, Alabama  /wiki/Baldwin_County,_Alabama\n",
       "2  Alabama       005  Barbour County, Alabama  /wiki/Barbour_County,_Alabama\n",
       "3  Alabama       007     Bibb County, Alabama     /wiki/Bibb_County,_Alabama\n",
       "4  Alabama       009   Blount County, Alabama   /wiki/Blount_County,_Alabama"
      ]
     },
     "execution_count": 3,
     "metadata": {},
     "output_type": "execute_result"
    }
   ],
   "source": [
    "county_links.head(5)"
   ]
  },
  {
   "cell_type": "code",
   "execution_count": 5,
   "metadata": {},
   "outputs": [
    {
     "data": {
      "text/plain": [
       "3094"
      ]
     },
     "execution_count": 5,
     "metadata": {},
     "output_type": "execute_result"
    }
   ],
   "source": [
    "len(county_links)"
   ]
  },
  {
   "cell_type": "code",
   "execution_count": 4,
   "metadata": {},
   "outputs": [],
   "source": [
    "url = 'https://en.wikipedia.org'"
   ]
  },
  {
   "cell_type": "code",
   "execution_count": 6,
   "metadata": {},
   "outputs": [],
   "source": [
    "records=[]\n",
    "\n",
    "for i, county in enumerate(county_links['county_name']):\n",
    "\n",
    "\n",
    "    state = county_links['state'][i]\n",
    "    county_name = county_links['county_name'][i]\n",
    "    FIPS_code = county_links['FIPS_code'][i]\n",
    "\n",
    "    county_page_url = url + county_links['wiki_link'][i]\n",
    "\n",
    "    response = requests.get(county_page_url)\n",
    "    page = response.text\n",
    "    soup = BeautifulSoup(page)\n",
    "\n",
    "    try:\n",
    "\n",
    "        try:\n",
    "            highway_list = soup.find(id=re.compile('highway')).findNext('ul').find_all('a')   \n",
    "            highways = [x.text for x in highway_list[1::2]]\n",
    "            hwy_count = len(highways)\n",
    "\n",
    "        except:\n",
    "            highways = []\n",
    "            hwy_count = 0\n",
    "\n",
    "        try:\n",
    "            city_list = soup.find(id=re.compile('Cit')).findNext('ul').find_all('li')\n",
    "            cities = [x.find('a').text for x in city_list]\n",
    "            city_count = len(cities)\n",
    "\n",
    "        except:\n",
    "            cities = []\n",
    "            cities_count = 0\n",
    "\n",
    "        try:\n",
    "            town_list = soup.find(id=re.compile('Town')).findNext('ul').find_all('li')\n",
    "            towns = [x.find('a').text for x in town_list]\n",
    "            town_count= len(towns)\n",
    "\n",
    "        except:\n",
    "            towns = []\n",
    "            town_count = 0\n",
    "\n",
    "        records.append((state, county_name, FIPS_code, county_page_url, highways, hwy_count,\n",
    "                    cities, city_count, towns, town_count))\n",
    "\n",
    "    except:\n",
    "        print('ERROR with URL: ', state_page_url)\n",
    "        continue\n",
    "\n",
    "\n",
    "    time.sleep(1)\n",
    "        \n",
    "  \n"
   ]
  },
  {
   "cell_type": "code",
   "execution_count": 7,
   "metadata": {},
   "outputs": [
    {
     "data": {
      "text/plain": [
       "3094"
      ]
     },
     "execution_count": 7,
     "metadata": {},
     "output_type": "execute_result"
    }
   ],
   "source": [
    "len(records)"
   ]
  },
  {
   "cell_type": "code",
   "execution_count": 13,
   "metadata": {},
   "outputs": [],
   "source": [
    "# to df\n",
    "county_features = pd.DataFrame(records)\n",
    "county_features.columns = ['state', 'county_name', 'FIPS_code', 'county_page_url', 'highways', 'hwy_count',\n",
    "                    'cities', 'city_count', 'towns', 'town_count']"
   ]
  },
  {
   "cell_type": "code",
   "execution_count": 14,
   "metadata": {},
   "outputs": [
    {
     "data": {
      "text/plain": [
       "3094"
      ]
     },
     "execution_count": 14,
     "metadata": {},
     "output_type": "execute_result"
    }
   ],
   "source": [
    "len(county_features)"
   ]
  },
  {
   "cell_type": "code",
   "execution_count": 16,
   "metadata": {},
   "outputs": [],
   "source": [
    "# output pickle\n",
    "with open('county_features.pickle', 'wb') as to_write:\n",
    "    pickle.dump(county_features, to_write)"
   ]
  },
  {
   "cell_type": "code",
   "execution_count": 15,
   "metadata": {},
   "outputs": [],
   "source": [
    "county_features.to_csv('review_features_scrape.csv', index=False)"
   ]
  },
  {
   "cell_type": "code",
   "execution_count": null,
   "metadata": {},
   "outputs": [],
   "source": []
  }
 ],
 "metadata": {
  "kernelspec": {
   "display_name": "Python 3",
   "language": "python",
   "name": "python3"
  },
  "language_info": {
   "codemirror_mode": {
    "name": "ipython",
    "version": 3
   },
   "file_extension": ".py",
   "mimetype": "text/x-python",
   "name": "python",
   "nbconvert_exporter": "python",
   "pygments_lexer": "ipython3",
   "version": "3.8.5"
  }
 },
 "nbformat": 4,
 "nbformat_minor": 4
}
