{
 "cells": [
  {
   "cell_type": "code",
   "execution_count": null,
   "metadata": {},
   "outputs": [],
   "source": [
    "\"\"\"\n",
    "\n",
    "Get data for features from each of the US county Wikipedia pages\n",
    "Loop over list of URLs of Wikipedia pages for each US county \n",
    "\n",
    "features to collect:\n",
    "major highways\n",
    "city or cities\n",
    "town or towns\n",
    "\n",
    "output to pickle\n",
    "\n",
    "Run time: 1 hour\n",
    "\n",
    "\"\"\""
   ]
  },
  {
   "cell_type": "code",
   "execution_count": 1,
   "metadata": {},
   "outputs": [],
   "source": [
    "from bs4 import BeautifulSoup\n",
    "import requests\n",
    "\n",
    "import numpy as np\n",
    "import pandas as pd\n",
    "\n",
    "import pickle\n",
    "import time\n",
    "\n",
    "import regex as re\n",
    "\n",
    "from datetime import datetime "
   ]
  },
  {
   "cell_type": "code",
   "execution_count": 2,
   "metadata": {},
   "outputs": [],
   "source": [
    "# list of county pages wikipedia links \n",
    "\n",
    "with open('county_wiki_links.pickle', 'rb') as read_file:\n",
    "    county_links = pickle.load(read_file)"
   ]
  },
  {
   "cell_type": "code",
   "execution_count": 3,
   "metadata": {},
   "outputs": [
    {
     "data": {
      "text/html": [
       "<div>\n",
       "<style scoped>\n",
       "    .dataframe tbody tr th:only-of-type {\n",
       "        vertical-align: middle;\n",
       "    }\n",
       "\n",
       "    .dataframe tbody tr th {\n",
       "        vertical-align: top;\n",
       "    }\n",
       "\n",
       "    .dataframe thead th {\n",
       "        text-align: right;\n",
       "    }\n",
       "</style>\n",
       "<table border=\"1\" class=\"dataframe\">\n",
       "  <thead>\n",
       "    <tr style=\"text-align: right;\">\n",
       "      <th></th>\n",
       "      <th>state</th>\n",
       "      <th>FIPS_code</th>\n",
       "      <th>county_name</th>\n",
       "      <th>wiki_link</th>\n",
       "    </tr>\n",
       "  </thead>\n",
       "  <tbody>\n",
       "    <tr>\n",
       "      <th>0</th>\n",
       "      <td>Alabama</td>\n",
       "      <td>001</td>\n",
       "      <td>Autauga County, Alabama</td>\n",
       "      <td>/wiki/Autauga_County,_Alabama</td>\n",
       "    </tr>\n",
       "    <tr>\n",
       "      <th>1</th>\n",
       "      <td>Alabama</td>\n",
       "      <td>003</td>\n",
       "      <td>Baldwin County, Alabama</td>\n",
       "      <td>/wiki/Baldwin_County,_Alabama</td>\n",
       "    </tr>\n",
       "    <tr>\n",
       "      <th>2</th>\n",
       "      <td>Alabama</td>\n",
       "      <td>005</td>\n",
       "      <td>Barbour County, Alabama</td>\n",
       "      <td>/wiki/Barbour_County,_Alabama</td>\n",
       "    </tr>\n",
       "    <tr>\n",
       "      <th>3</th>\n",
       "      <td>Alabama</td>\n",
       "      <td>007</td>\n",
       "      <td>Bibb County, Alabama</td>\n",
       "      <td>/wiki/Bibb_County,_Alabama</td>\n",
       "    </tr>\n",
       "    <tr>\n",
       "      <th>4</th>\n",
       "      <td>Alabama</td>\n",
       "      <td>009</td>\n",
       "      <td>Blount County, Alabama</td>\n",
       "      <td>/wiki/Blount_County,_Alabama</td>\n",
       "    </tr>\n",
       "  </tbody>\n",
       "</table>\n",
       "</div>"
      ],
      "text/plain": [
       "     state FIPS_code              county_name                      wiki_link\n",
       "0  Alabama       001  Autauga County, Alabama  /wiki/Autauga_County,_Alabama\n",
       "1  Alabama       003  Baldwin County, Alabama  /wiki/Baldwin_County,_Alabama\n",
       "2  Alabama       005  Barbour County, Alabama  /wiki/Barbour_County,_Alabama\n",
       "3  Alabama       007     Bibb County, Alabama     /wiki/Bibb_County,_Alabama\n",
       "4  Alabama       009   Blount County, Alabama   /wiki/Blount_County,_Alabama"
      ]
     },
     "execution_count": 3,
     "metadata": {},
     "output_type": "execute_result"
    }
   ],
   "source": [
    "county_links.head(5)"
   ]
  },
  {
   "cell_type": "code",
   "execution_count": 7,
   "metadata": {},
   "outputs": [
    {
     "data": {
      "text/plain": [
       "3094"
      ]
     },
     "execution_count": 7,
     "metadata": {},
     "output_type": "execute_result"
    }
   ],
   "source": [
    "len(county_links)"
   ]
  },
  {
   "cell_type": "code",
   "execution_count": 42,
   "metadata": {},
   "outputs": [],
   "source": [
    "base_url = 'https://en.wikipedia.org'\n"
   ]
  },
  {
   "cell_type": "code",
   "execution_count": 70,
   "metadata": {},
   "outputs": [
    {
     "name": "stdout",
     "output_type": "stream",
     "text": [
      "Current Time = 16:03:18\n"
     ]
    }
   ],
   "source": [
    "now = datetime.now () \n",
    "current_time = now.strftime (\"%H:%M:%S\") \n",
    "print(\"Current Time =\", current_time)"
   ]
  },
  {
   "cell_type": "code",
   "execution_count": 60,
   "metadata": {},
   "outputs": [],
   "source": [
    "cnty_data = []\n",
    "\n",
    "for i, county in enumerate(county_links['county_name']):\n",
    "\n",
    "    county_page_url = base_url + county_links['wiki_link'][i]\n",
    "\n",
    "    response = requests.get(county_page_url)\n",
    "    page = response.text\n",
    "    soup = BeautifulSoup(page)\n",
    "        \n",
    "    state = county_links['state'][i]\n",
    "    county_name = county_links['county_name'][i]\n",
    "    FIPS_code = county_links['FIPS_code'][i]\n",
    "    \n",
    "    headers = ['state', 'county_name', 'FIPS_code', 'county_page_url', 'highways', 'hwy_count',\n",
    "                    'cities', 'city_count', 'towns', 'town_count']\n",
    "\n",
    "    try:\n",
    "\n",
    "        try:\n",
    "            highway_find = soup.find(id=re.compile('highway')).findNext('ul').find_all('a')              \n",
    "            highway_list = [x.text for x in highway_find]\n",
    "            highways = list(filter(len, highway_list))  # remove blanks for the hwy sign images\n",
    "            hwy_count = len(highways)\n",
    "\n",
    "        except:\n",
    "            highways = []\n",
    "            hwy_count = 0\n",
    "\n",
    "        try:           \n",
    "            city_list = soup.find(id=re.compile(r\"(\\bCity\\b|\\bCities\\b)\")).findNext('ul').find_all('li')\n",
    "            cities = [x.find('a').text for x in city_list]\n",
    "            city_count = len(cities)\n",
    "\n",
    "        except:\n",
    "            cities = []\n",
    "            cities_count = 0\n",
    "\n",
    "        try:\n",
    "            town_list = soup.find(id=re.compile(r\"(\\bTown\\b|\\bTowns\\b)\")).findNext('ul').find_all('li')\n",
    "            towns = [x.find('a').text for x in town_list]\n",
    "            town_count= len(towns)\n",
    "\n",
    "        except:\n",
    "            towns = []\n",
    "            town_count = 0\n",
    "            \n",
    "        \n",
    "        features_dict = dict(zip(headers, [state, county_name, FIPS_code, county_page_url, highways, \n",
    "                                           hwy_count, cities, city_count, towns, town_count]))\n",
    "        \n",
    "        cnty_data.append(features_dict)\n",
    "                \n",
    "\n",
    "    except:\n",
    "        print('ERROR with URL: ', county_page_url)\n",
    "        continue\n",
    "\n",
    "\n",
    "    time.sleep(1)\n",
    "        \n"
   ]
  },
  {
   "cell_type": "code",
   "execution_count": 61,
   "metadata": {},
   "outputs": [
    {
     "name": "stdout",
     "output_type": "stream",
     "text": [
      "Current Time = 17:06:59\n"
     ]
    }
   ],
   "source": [
    "now = datetime.now () \n",
    "current_time = now.strftime (\"%H:%M:%S\") \n",
    "print(\"Current Time =\", current_time)"
   ]
  },
  {
   "cell_type": "code",
   "execution_count": 63,
   "metadata": {},
   "outputs": [
    {
     "data": {
      "text/plain": [
       "3094"
      ]
     },
     "execution_count": 63,
     "metadata": {},
     "output_type": "execute_result"
    }
   ],
   "source": [
    "len(cnty_data)"
   ]
  },
  {
   "cell_type": "code",
   "execution_count": 64,
   "metadata": {},
   "outputs": [],
   "source": [
    "# to df\n",
    "county_features = pd.DataFrame(cnty_data)\n"
   ]
  },
  {
   "cell_type": "code",
   "execution_count": 65,
   "metadata": {},
   "outputs": [
    {
     "data": {
      "text/plain": [
       "3094"
      ]
     },
     "execution_count": 65,
     "metadata": {},
     "output_type": "execute_result"
    }
   ],
   "source": [
    "len(county_features)"
   ]
  },
  {
   "cell_type": "code",
   "execution_count": 66,
   "metadata": {},
   "outputs": [
    {
     "data": {
      "text/html": [
       "<div>\n",
       "<style scoped>\n",
       "    .dataframe tbody tr th:only-of-type {\n",
       "        vertical-align: middle;\n",
       "    }\n",
       "\n",
       "    .dataframe tbody tr th {\n",
       "        vertical-align: top;\n",
       "    }\n",
       "\n",
       "    .dataframe thead th {\n",
       "        text-align: right;\n",
       "    }\n",
       "</style>\n",
       "<table border=\"1\" class=\"dataframe\">\n",
       "  <thead>\n",
       "    <tr style=\"text-align: right;\">\n",
       "      <th></th>\n",
       "      <th>state</th>\n",
       "      <th>county_name</th>\n",
       "      <th>FIPS_code</th>\n",
       "      <th>county_page_url</th>\n",
       "      <th>highways</th>\n",
       "      <th>hwy_count</th>\n",
       "      <th>cities</th>\n",
       "      <th>city_count</th>\n",
       "      <th>towns</th>\n",
       "      <th>town_count</th>\n",
       "    </tr>\n",
       "  </thead>\n",
       "  <tbody>\n",
       "    <tr>\n",
       "      <th>0</th>\n",
       "      <td>Alabama</td>\n",
       "      <td>Autauga County, Alabama</td>\n",
       "      <td>001</td>\n",
       "      <td>https://en.wikipedia.org/wiki/Autauga_County,_...</td>\n",
       "      <td>[Interstate 65, U.S. Highway 31, U.S. Highway ...</td>\n",
       "      <td>6</td>\n",
       "      <td>[Millbrook, Prattville]</td>\n",
       "      <td>2</td>\n",
       "      <td>[Autaugaville, Billingsley]</td>\n",
       "      <td>2</td>\n",
       "    </tr>\n",
       "    <tr>\n",
       "      <th>1</th>\n",
       "      <td>Alabama</td>\n",
       "      <td>Baldwin County, Alabama</td>\n",
       "      <td>003</td>\n",
       "      <td>https://en.wikipedia.org/wiki/Baldwin_County,_...</td>\n",
       "      <td>[Interstate 10, Interstate 65, U.S. Highway 31...</td>\n",
       "      <td>12</td>\n",
       "      <td>[Bay Minette, Daphne, Fairhope, Foley, Gulf Sh...</td>\n",
       "      <td>8</td>\n",
       "      <td>[Elberta, Loxley, Magnolia Springs, Perdido Be...</td>\n",
       "      <td>6</td>\n",
       "    </tr>\n",
       "    <tr>\n",
       "      <th>2</th>\n",
       "      <td>Alabama</td>\n",
       "      <td>Barbour County, Alabama</td>\n",
       "      <td>005</td>\n",
       "      <td>https://en.wikipedia.org/wiki/Barbour_County,_...</td>\n",
       "      <td>[U.S. Highway 82, U.S. Highway 431, State Rout...</td>\n",
       "      <td>11</td>\n",
       "      <td>[Clio, Eufaula]</td>\n",
       "      <td>2</td>\n",
       "      <td>[Bakerhill, Blue Springs, Clayton, Louisville]</td>\n",
       "      <td>4</td>\n",
       "    </tr>\n",
       "    <tr>\n",
       "      <th>3</th>\n",
       "      <td>Alabama</td>\n",
       "      <td>Bibb County, Alabama</td>\n",
       "      <td>007</td>\n",
       "      <td>https://en.wikipedia.org/wiki/Bibb_County,_Ala...</td>\n",
       "      <td>[U.S. Highway 11, U.S. Highway 82, State Route...</td>\n",
       "      <td>8</td>\n",
       "      <td>[Brent, Centreville]</td>\n",
       "      <td>2</td>\n",
       "      <td>[Vance, West Blocton, Woodstock]</td>\n",
       "      <td>3</td>\n",
       "    </tr>\n",
       "    <tr>\n",
       "      <th>4</th>\n",
       "      <td>Alabama</td>\n",
       "      <td>Blount County, Alabama</td>\n",
       "      <td>009</td>\n",
       "      <td>https://en.wikipedia.org/wiki/Blount_County,_A...</td>\n",
       "      <td>[Interstate 65, U.S. Highway 31, U.S. Highway ...</td>\n",
       "      <td>9</td>\n",
       "      <td>[Oneonta, Warrior]</td>\n",
       "      <td>2</td>\n",
       "      <td>[Allgood, Altoona, Blountsville, Cleveland, Co...</td>\n",
       "      <td>14</td>\n",
       "    </tr>\n",
       "  </tbody>\n",
       "</table>\n",
       "</div>"
      ],
      "text/plain": [
       "     state              county_name FIPS_code  \\\n",
       "0  Alabama  Autauga County, Alabama       001   \n",
       "1  Alabama  Baldwin County, Alabama       003   \n",
       "2  Alabama  Barbour County, Alabama       005   \n",
       "3  Alabama     Bibb County, Alabama       007   \n",
       "4  Alabama   Blount County, Alabama       009   \n",
       "\n",
       "                                     county_page_url  \\\n",
       "0  https://en.wikipedia.org/wiki/Autauga_County,_...   \n",
       "1  https://en.wikipedia.org/wiki/Baldwin_County,_...   \n",
       "2  https://en.wikipedia.org/wiki/Barbour_County,_...   \n",
       "3  https://en.wikipedia.org/wiki/Bibb_County,_Ala...   \n",
       "4  https://en.wikipedia.org/wiki/Blount_County,_A...   \n",
       "\n",
       "                                            highways  hwy_count  \\\n",
       "0  [Interstate 65, U.S. Highway 31, U.S. Highway ...          6   \n",
       "1  [Interstate 10, Interstate 65, U.S. Highway 31...         12   \n",
       "2  [U.S. Highway 82, U.S. Highway 431, State Rout...         11   \n",
       "3  [U.S. Highway 11, U.S. Highway 82, State Route...          8   \n",
       "4  [Interstate 65, U.S. Highway 31, U.S. Highway ...          9   \n",
       "\n",
       "                                              cities  city_count  \\\n",
       "0                            [Millbrook, Prattville]           2   \n",
       "1  [Bay Minette, Daphne, Fairhope, Foley, Gulf Sh...           8   \n",
       "2                                    [Clio, Eufaula]           2   \n",
       "3                               [Brent, Centreville]           2   \n",
       "4                                 [Oneonta, Warrior]           2   \n",
       "\n",
       "                                               towns  town_count  \n",
       "0                        [Autaugaville, Billingsley]           2  \n",
       "1  [Elberta, Loxley, Magnolia Springs, Perdido Be...           6  \n",
       "2     [Bakerhill, Blue Springs, Clayton, Louisville]           4  \n",
       "3                   [Vance, West Blocton, Woodstock]           3  \n",
       "4  [Allgood, Altoona, Blountsville, Cleveland, Co...          14  "
      ]
     },
     "execution_count": 66,
     "metadata": {},
     "output_type": "execute_result"
    }
   ],
   "source": [
    "county_features.head()"
   ]
  },
  {
   "cell_type": "code",
   "execution_count": 67,
   "metadata": {},
   "outputs": [],
   "source": [
    "# export all and review\n",
    "county_features.to_csv('review_features_scrape.csv', index=False)"
   ]
  },
  {
   "cell_type": "code",
   "execution_count": 68,
   "metadata": {},
   "outputs": [],
   "source": [
    "# output pickle\n",
    "with open('county_features.pickle', 'wb') as to_write:\n",
    "    pickle.dump(county_features, to_write)"
   ]
  },
  {
   "cell_type": "code",
   "execution_count": null,
   "metadata": {},
   "outputs": [],
   "source": []
  }
 ],
 "metadata": {
  "kernelspec": {
   "display_name": "Python 3",
   "language": "python",
   "name": "python3"
  },
  "language_info": {
   "codemirror_mode": {
    "name": "ipython",
    "version": 3
   },
   "file_extension": ".py",
   "mimetype": "text/x-python",
   "name": "python",
   "nbconvert_exporter": "python",
   "pygments_lexer": "ipython3",
   "version": "3.8.5"
  }
 },
 "nbformat": 4,
 "nbformat_minor": 4
}
